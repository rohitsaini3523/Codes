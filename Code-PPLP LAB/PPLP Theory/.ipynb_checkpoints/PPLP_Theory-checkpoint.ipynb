{
 "cells": [
  {
   "cell_type": "code",
   "execution_count": 3,
   "id": "b8f1da38",
   "metadata": {},
   "outputs": [
    {
     "name": "stdout",
     "output_type": "stream",
     "text": [
      "<re.Match object; span=(0, 17), match='The rain in Spain'>\n"
     ]
    }
   ],
   "source": [
    "import re\n",
    "txt =\"The rain in Spain\"\n",
    "x = re.search(\"^The.*Spain\",txt)\n",
    "#print(x)\n",
    "#print(re.findall(\"aix\",txt)) #gives the substring in list\n",
    "#print(len(re.findall(\"aix\",txt))) #number of entries\n",
    "#print(re.search(\"in\",txt)) \n",
    "#print(re.search(\"\\s\",txt)) #gives the first white space index\n",
    "#x = re.split(\"\\s\",txt,2)\n",
    "print(x)\n",
    "#x = re.search(r\"\\bS\\w+\",txt)\n",
    "#print(x.span())"
   ]
  },
  {
   "cell_type": "code",
   "execution_count": 1,
   "id": "bf13d9dd",
   "metadata": {},
   "outputs": [
    {
     "name": "stdout",
     "output_type": "stream",
     "text": [
      "The9rain9in9Spain.9There is no rain in India.\n"
     ]
    }
   ],
   "source": [
    "import re\n",
    "txt =\"The rain in Spain. There is no rain in India.\"\n",
    "x= re.sub(\"\\s\",\"9\",txt,4)\n",
    "print(x)"
   ]
  },
  {
   "cell_type": "code",
   "execution_count": null,
   "id": "66ee96ad",
   "metadata": {},
   "outputs": [],
   "source": []
  }
 ],
 "metadata": {
  "kernelspec": {
   "display_name": "Python 3 (ipykernel)",
   "language": "python",
   "name": "python3"
  },
  "language_info": {
   "codemirror_mode": {
    "name": "ipython",
    "version": 3
   },
   "file_extension": ".py",
   "mimetype": "text/x-python",
   "name": "python",
   "nbconvert_exporter": "python",
   "pygments_lexer": "ipython3",
   "version": "3.9.7"
  }
 },
 "nbformat": 4,
 "nbformat_minor": 5
}
