{
 "cells": [
  {
   "cell_type": "code",
   "execution_count": 3,
   "id": "b8f1da38",
   "metadata": {},
   "outputs": [
    {
     "name": "stdout",
     "output_type": "stream",
     "text": [
      "<re.Match object; span=(0, 17), match='The rain in Spain'>\n"
     ]
    }
   ],
   "source": [
    "import re\n",
    "txt =\"The rain in Spain\"\n",
    "x = re.search(\"^The.*Spain\",txt)\n",
    "#print(x)\n",
    "#print(re.findall(\"aix\",txt)) #gives the substring in list\n",
    "#print(len(re.findall(\"aix\",txt))) #number of entries\n",
    "#print(re.search(\"in\",txt)) \n",
    "#print(re.search(\"\\s\",txt)) #gives the first white space index\n",
    "#x = re.split(\"\\s\",txt,2)\n",
    "print(x)\n",
    "#x = re.search(r\"\\bS\\w+\",txt)\n",
    "#print(x.span())"
   ]
  },
  {
   "cell_type": "code",
   "execution_count": 1,
   "id": "bf13d9dd",
   "metadata": {},
   "outputs": [
    {
     "name": "stdout",
     "output_type": "stream",
     "text": [
      "The9rain9in9Spain.9There is no rain in India.\n"
     ]
    }
   ],
   "source": [
    "import re\n",
    "txt =\"The rain in Spain. There is no rain in India.\"\n",
    "x= re.sub(\"\\s\",\"9\",txt,4)\n",
    "print(x)"
   ]
  },
  {
   "cell_type": "code",
   "execution_count": 3,
   "id": "66ee96ad",
   "metadata": {},
   "outputs": [
    {
     "ename": "ModuleNotFoundError",
     "evalue": "No module named 'calc.py'; 'calc' is not a package",
     "output_type": "error",
     "traceback": [
      "\u001b[1;31m---------------------------------------------------------------------------\u001b[0m",
      "\u001b[1;31mModuleNotFoundError\u001b[0m                       Traceback (most recent call last)",
      "\u001b[1;32m~\\AppData\\Local\\Temp/ipykernel_15052/1367009155.py\u001b[0m in \u001b[0;36m<module>\u001b[1;34m\u001b[0m\n\u001b[0;32m      1\u001b[0m \u001b[1;32mimport\u001b[0m \u001b[0mimport_ipynb\u001b[0m\u001b[1;33m\u001b[0m\u001b[1;33m\u001b[0m\u001b[0m\n\u001b[1;32m----> 2\u001b[1;33m \u001b[1;32mimport\u001b[0m \u001b[0mcalc\u001b[0m\u001b[1;33m.\u001b[0m\u001b[0mpy\u001b[0m\u001b[1;33m\u001b[0m\u001b[1;33m\u001b[0m\u001b[0m\n\u001b[0m\u001b[0;32m      3\u001b[0m \u001b[0mprint\u001b[0m\u001b[1;33m(\u001b[0m\u001b[0mvar\u001b[0m\u001b[1;33m)\u001b[0m\u001b[1;33m\u001b[0m\u001b[1;33m\u001b[0m\u001b[0m\n",
      "\u001b[1;31mModuleNotFoundError\u001b[0m: No module named 'calc.py'; 'calc' is not a package"
     ]
    }
   ],
   "source": [
    "import import_ipynb\n",
    "import calc.py\n",
    "print(var)"
   ]
  },
  {
   "cell_type": "code",
   "execution_count": null,
   "id": "0618e597-ce87-4924-b57a-5e35ace9de65",
   "metadata": {},
   "outputs": [],
   "source": []
  }
 ],
 "metadata": {
  "kernelspec": {
   "display_name": "Python 3 (ipykernel)",
   "language": "python",
   "name": "python3"
  },
  "language_info": {
   "codemirror_mode": {
    "name": "ipython",
    "version": 3
   },
   "file_extension": ".py",
   "mimetype": "text/x-python",
   "name": "python",
   "nbconvert_exporter": "python",
   "pygments_lexer": "ipython3",
   "version": "3.9.7"
  }
 },
 "nbformat": 4,
 "nbformat_minor": 5
}
