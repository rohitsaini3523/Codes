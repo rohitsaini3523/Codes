{
 "cells": [
  {
   "cell_type": "code",
   "execution_count": 3,
   "id": "a611f7b2-53ba-4df3-843a-7f83de073ce8",
   "metadata": {},
   "outputs": [],
   "source": [
    "from tkinter import *\n",
    "master =Tk()\n",
    "w =Canvas(master)\n",
    "w.pack()\n",
    "canvas_height =100\n",
    "canvas_width = 200\n",
    "y =int(canvas_height/2)\n",
    "w.create_line(0,y,canvas_width,100)\n",
    "mainloop()"
   ]
  },
  {
   "cell_type": "code",
   "execution_count": null,
   "id": "6534d770-0382-4230-87c4-680b221cd470",
   "metadata": {},
   "outputs": [],
   "source": [
    "from tkinter import *\n",
    "master = tk.Tk()\n"
   ]
  }
 ],
 "metadata": {
  "kernelspec": {
   "display_name": "Python 3 (ipykernel)",
   "language": "python",
   "name": "python3"
  },
  "language_info": {
   "codemirror_mode": {
    "name": "ipython",
    "version": 3
   },
   "file_extension": ".py",
   "mimetype": "text/x-python",
   "name": "python",
   "nbconvert_exporter": "python",
   "pygments_lexer": "ipython3",
   "version": "3.9.7"
  }
 },
 "nbformat": 4,
 "nbformat_minor": 5
}
