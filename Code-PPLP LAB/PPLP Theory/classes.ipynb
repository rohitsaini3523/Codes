{
 "cells": [
  {
   "cell_type": "code",
   "execution_count": 9,
   "id": "36afcca9",
   "metadata": {},
   "outputs": [
    {
     "name": "stdout",
     "output_type": "stream",
     "text": [
      "Zara 2000\n",
      "Manni 5000\n",
      "7\n",
      "2\n"
     ]
    }
   ],
   "source": [
    "class Employees:\n",
    "    empCount =0\n",
    "    \n",
    "    def __init__(self,name,salary):\n",
    "        self.name = name\n",
    "        self.salary =salary\n",
    "        Employees.empCount+=1\n",
    "        \n",
    "    def displayCount(self):\n",
    "        print(\"Total Employee: \"%Employee.empCount)\n",
    "        \n",
    "    def displayEmployee(self):\n",
    "        print(self.name,self.salary)\n",
    "emp1 =Employees(\"Zara\",2000)\n",
    "emp2 =Employees(\"Manni\",5000)\n",
    "emp1.displayEmployee()\n",
    "emp2.displayEmployee()\n",
    "emp1.age = 7\n",
    "emp2.age = 8\n",
    "print(emp1.age)\n",
    "print(Employees.empCount)"
   ]
  },
  {
   "cell_type": "code",
   "execution_count": 3,
   "id": "fd8db8b7",
   "metadata": {},
   "outputs": [
    {
     "name": "stdout",
     "output_type": "stream",
     "text": [
      "8\n"
     ]
    }
   ],
   "source": [
    "#import import_ipynb\n",
    "import calc\n",
    "print(calc.add(5,3))"
   ]
  },
  {
   "cell_type": "code",
   "execution_count": 4,
   "id": "ebec58e5",
   "metadata": {},
   "outputs": [
    {
     "name": "stdout",
     "output_type": "stream",
     "text": [
      "100\n"
     ]
    }
   ],
   "source": [
    "from calc import *\n",
    "print(person1[\"Age\"])"
   ]
  },
  {
   "cell_type": "code",
   "execution_count": 5,
   "id": "a9f85c9c",
   "metadata": {},
   "outputs": [
    {
     "name": "stdout",
     "output_type": "stream",
     "text": [
      "Rohit\n",
      "26\n"
     ]
    }
   ],
   "source": [
    "class Person:\n",
    "    def __init__(self,name,age):\n",
    "        self.name = name\n",
    "        self.age = age\n",
    "P1 = Person(\"Rohit\",26)\n",
    "print(P1.name)\n",
    "print(P1.age)"
   ]
  },
  {
   "cell_type": "code",
   "execution_count": 7,
   "id": "35b79209",
   "metadata": {},
   "outputs": [
    {
     "name": "stdout",
     "output_type": "stream",
     "text": [
      "5\n",
      "5\n",
      "40\n",
      "5\n"
     ]
    }
   ],
   "source": [
    "class MyClass:\n",
    "    x = 5\n",
    "p = MyClass()\n",
    "print(p.x)\n",
    "p1 = MyClass()\n",
    "print(p1.x)\n",
    "p.x = 40\n",
    "print(p.x)\n",
    "print(p1.x)"
   ]
  },
  {
   "cell_type": "code",
   "execution_count": 14,
   "id": "38a24abc",
   "metadata": {},
   "outputs": [
    {
     "name": "stdout",
     "output_type": "stream",
     "text": [
      "ABC 26\n",
      "xyz 23\n",
      "Name:  ABC\n"
     ]
    }
   ],
   "source": [
    "class Myclass:\n",
    "    def __init__(self,name,age):\n",
    "        self.name = name\n",
    "        self.age = age\n",
    "    def myfun(self):\n",
    "        print(\"Name: \",self.name)\n",
    "p1 = Myclass(\"ABC\",26)\n",
    "print(p1.name,p1.age)\n",
    "del p1.age\n",
    "#print(p1.age)\n",
    "p2 = Myclass(\"xyz\",23)\n",
    "print(p2.name,p2.age)\n",
    "del p2\n",
    "#p2.myfun()\n",
    "p1.myfun()"
   ]
  },
  {
   "cell_type": "code",
   "execution_count": null,
   "id": "197a7637",
   "metadata": {},
   "outputs": [],
   "source": [
    "class test:\n",
    "    a = 20\n",
    "    b = 30\n",
    "    def accept(self):\n",
    "        self.a = int(input())\n",
    "        self.b = int(input())\n",
    "l = []\n",
    "\n",
    "        \n",
    "        "
   ]
  },
  {
   "cell_type": "code",
   "execution_count": 19,
   "id": "20ae2ad4",
   "metadata": {},
   "outputs": [
    {
     "name": "stdout",
     "output_type": "stream",
     "text": [
      "Zara 2000\n",
      "Manni 5000\n",
      "- 0\n"
     ]
    }
   ],
   "source": [
    "class Employees:\n",
    "    empCount =0\n",
    "    \n",
    "    def __init__(self,name,salary):\n",
    "        self.name = name\n",
    "        self.salary =salary\n",
    "        Employees.empCount+=1\n",
    "    def __init__(self,name=\"-\",salary=0):\n",
    "        self.name = name\n",
    "        self.salary =salary  \n",
    "    def displayCount(self):\n",
    "        print(\"Total Employee: \"%Employee.empCount)\n",
    "        \n",
    "    def display(self):\n",
    "        print(self.name,self.salary)\n",
    "emp1 =Employees(\"Zara\",2000)\n",
    "emp2 =Employees(\"Manni\",5000)\n",
    "emp1.age = 7\n",
    "emp2.age = 8\n",
    "emp3 = Employees()\n",
    "emp1.display()\n",
    "emp2.display()\n",
    "emp3.display()"
   ]
  },
  {
   "cell_type": "code",
   "execution_count": 8,
   "id": "257ed577",
   "metadata": {},
   "outputs": [
    {
     "name": "stdout",
     "output_type": "stream",
     "text": [
      "Parent\n",
      "Child\n",
      "Parent\n"
     ]
    }
   ],
   "source": [
    "#single level inheritance\n",
    "class parent():\n",
    "    def func1(elf):\n",
    "        print(\"Parent\")\n",
    "class child(parent):\n",
    "    def func2(elf):\n",
    "        print(\"Child\")\n",
    "ob = child()\n",
    "ob.func1()\n",
    "ob.func2()\n",
    "ob1 = parent()\n",
    "ob1.func1()"
   ]
  },
  {
   "cell_type": "code",
   "execution_count": 9,
   "id": "85a402df",
   "metadata": {},
   "outputs": [
    {
     "name": "stdout",
     "output_type": "stream",
     "text": [
      "Parent2\n",
      "Parent\n",
      "Child\n"
     ]
    }
   ],
   "source": [
    "#single level inheritance\n",
    "class parent():\n",
    "    def func1(self):\n",
    "        print(\"Parent\")\n",
    "class parent2():\n",
    "    def func(self):\n",
    "        print(\"Parent2\")\n",
    "class child(parent, parent2):\n",
    "    \n",
    "    def func2(self):\n",
    "        print(\"Child\")\n",
    "ob = child()\n",
    "ob.func()\n",
    "ob.func1()\n",
    "ob.func2()"
   ]
  },
  {
   "cell_type": "code",
   "execution_count": 11,
   "id": "e135915c",
   "metadata": {},
   "outputs": [
    {
     "name": "stdout",
     "output_type": "stream",
     "text": [
      "Grand-Parent\n",
      "Parent\n",
      "Child\n"
     ]
    }
   ],
   "source": [
    "#multi-level inheritance\n",
    "class grandparent():\n",
    "    def func(self):\n",
    "        print(\"Grand-Parent\")\n",
    "class parent(grandparent):\n",
    "    def func1(self):\n",
    "        print(\"Parent\")\n",
    "class child(parent):\n",
    "     def func2(self):\n",
    "        print(\"Child\")\n",
    "ob = child()\n",
    "ob.func()\n",
    "ob.func1()\n",
    "ob.func2()"
   ]
  },
  {
   "cell_type": "code",
   "execution_count": 13,
   "id": "841dc214",
   "metadata": {},
   "outputs": [
    {
     "name": "stdout",
     "output_type": "stream",
     "text": [
      "Parent\n",
      "Child1\n",
      "Parent\n",
      "Child2\n"
     ]
    }
   ],
   "source": [
    "#hierarchal inheritance\n",
    "class parent():\n",
    "    def func1(self):\n",
    "        print(\"Parent\")\n",
    "class child1(parent):\n",
    "    def func(self):\n",
    "        print(\"Child1\")\n",
    "class child2(parent):\n",
    "    \n",
    "    def func2(self):\n",
    "        print(\"Child2\")\n",
    "ob = child1()\n",
    "ob.func1()\n",
    "ob.func()\n",
    "ob1 = child2()\n",
    "ob1.func1()\n",
    "ob1.func2()"
   ]
  },
  {
   "cell_type": "code",
   "execution_count": 15,
   "id": "3119b573",
   "metadata": {},
   "outputs": [
    {
     "name": "stdout",
     "output_type": "stream",
     "text": [
      "Parent\n",
      "Child1\n",
      "Parent\n",
      "Child2\n"
     ]
    }
   ],
   "source": [
    "\n",
    "class parent():\n",
    "    def func1(self):\n",
    "        print(\"Parent\")\n",
    "class child1(parent):\n",
    "    def func(self):\n",
    "        super().func1()\n",
    "        print(\"Child1\")\n",
    "class child2(parent):\n",
    "    \n",
    "    def func2(self):\n",
    "        print(\"Child2\")\n",
    "ob = child1()\n",
    "#ob.func1()\n",
    "ob.func()\n",
    "ob1 = child2()\n",
    "ob1.func1()\n",
    "ob1.func2()"
   ]
  },
  {
   "cell_type": "code",
   "execution_count": 6,
   "id": "20df2ee9",
   "metadata": {},
   "outputs": [
    {
     "name": "stdout",
     "output_type": "stream",
     "text": [
      "L: 12\n",
      "B: 2\n",
      "24.0\n",
      "R: 1\n",
      "3.14\n"
     ]
    }
   ],
   "source": [
    "class rectangle:\n",
    "    def getdata(self):\n",
    "        self.l = float(input(\"L: \"))\n",
    "        self.b = float(input(\"B: \"))\n",
    "        return (self.l,self.b)\n",
    "    def area(self):    \n",
    "        print(self.l*self.b)\n",
    "class circle:\n",
    "    def getdata(self):\n",
    "        self.r = float(input(\"R: \"))\n",
    "        return self.r\n",
    "    def area(self):\n",
    "        print(3.14*self.r*self.r)\n",
    "def fun(obj):\n",
    "    obj.getdata()\n",
    "    obj.area()\n",
    "ob = rectangle()\n",
    "ob1 = circle()\n",
    "fun(ob)\n",
    "fun(ob1)"
   ]
  },
  {
   "cell_type": "code",
   "execution_count": 2,
   "id": "78f54b74",
   "metadata": {},
   "outputs": [
    {
     "name": "stdout",
     "output_type": "stream",
     "text": [
      "10\n",
      "None\n"
     ]
    }
   ],
   "source": [
    "class emp:\n",
    "    age =10\n",
    "print(emp.age)\n",
    "print(emp.__doc__)"
   ]
  },
  {
   "cell_type": "code",
   "execution_count": 6,
   "id": "787b825c-8ab7-4e03-aac2-99813dad9d97",
   "metadata": {},
   "outputs": [
    {
     "name": "stdout",
     "output_type": "stream",
     "text": [
      "7\n"
     ]
    }
   ],
   "source": [
    "k = int(input())\n",
    "print(k)"
   ]
  }
 ],
 "metadata": {
  "interpreter": {
   "hash": "4939cee7d422d5d39ee16b2098a2003c48e3d32b241388eaf77ab70ce4a2e0c8"
  },
  "kernelspec": {
   "display_name": "Python 3 (ipykernel)",
   "language": "python",
   "name": "python3"
  },
  "language_info": {
   "codemirror_mode": {
    "name": "ipython",
    "version": 3
   },
   "file_extension": ".py",
   "mimetype": "text/x-python",
   "name": "python",
   "nbconvert_exporter": "python",
   "pygments_lexer": "ipython3",
   "version": "3.10.2"
  }
 },
 "nbformat": 4,
 "nbformat_minor": 5
}
