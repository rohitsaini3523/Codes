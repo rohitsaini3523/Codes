{
 "cells": [
  {
   "cell_type": "code",
   "execution_count": 1,
   "metadata": {},
   "outputs": [
    {
     "name": "stdout",
     "output_type": "stream",
     "text": [
      "Ascending :\n",
      "{1: 1, 3: 4, 2: 9}\n",
      "Descending :\n",
      "{2: 9, 3: 4, 1: 1}\n"
     ]
    }
   ],
   "source": [
    "dict1 = {1:1,2:9,3:4}\n",
    "sorted_values=sorted(dict1.values())\n",
    "reverse_sorted_values=sorted(dict1.values(),reverse =True)\n",
    "sorted_dict={}\n",
    "reverse_sorted_dict={}\n",
    "print(\"Ascending :\")\n",
    "for i in sorted_values:\n",
    "    for k in dict1.keys():\n",
    "        if dict1[k]==i:\n",
    "            sorted_dict[k]=dict1[k]\n",
    "            break\n",
    "print(sorted_dict)\n",
    "print(\"Descending :\")\n",
    "for i in reverse_sorted_values:\n",
    "    for k in dict1.keys():\n",
    "        if dict1[k]==i:\n",
    "            reverse_sorted_dict[k]=dict1[k]\n",
    "            break\n",
    "print(reverse_sorted_dict)"
   ]
  },
  {
   "cell_type": "code",
   "execution_count": 7,
   "metadata": {},
   "outputs": [
    {
     "name": "stdout",
     "output_type": "stream",
     "text": [
      "Ascending:\n",
      "{1: 1, 3: 4, 2: 9}\n",
      "Descending:\n",
      "{2: 9, 3: 4, 1: 1}\n"
     ]
    }
   ],
   "source": [
    "dict1 = {1:1,2:9,3:4}\n",
    "sorted_dict={}\n",
    "reverse_sorted_dict={}\n",
    "sorted_key = sorted(dict1, key=dict1.get)\n",
    "print(\"Ascending:\")\n",
    "for j in sorted_key:\n",
    "    sorted_dict[j]= dict1[j]\n",
    "print(sorted_dict)\n",
    "reverse_sorted_dict={}\n",
    "reverse_sorted_key = sorted(dict1, key=dict1.get,reverse=True)\n",
    "print(\"Descending:\")\n",
    "for j in reverse_sorted_key:\n",
    "    reverse_sorted_dict[j]= dict1[j]\n",
    "print(reverse_sorted_dict)"
   ]
  },
  {
   "cell_type": "code",
   "execution_count": 9,
   "metadata": {},
   "outputs": [
    {
     "name": "stdout",
     "output_type": "stream",
     "text": [
      "[(1, 1), (3, 4), (2, 9)]\n",
      "[(2, 9), (3, 4), (1, 1)]\n",
      "Ascending: \n",
      "{1: 1, 3: 4, 2: 9}\n",
      "Descending: \n",
      "{2: 9, 3: 4, 1: 1}\n"
     ]
    }
   ],
   "source": [
    "import operator\n",
    "dict1 ={1:1,2:9,3:4}\n",
    "sorted_tupple = sorted(dict1.items(),key=operator.itemgetter(1))\n",
    "reverse_sorted_tupple = sorted(dict1.items(),key=operator.itemgetter(1),reverse =True)\n",
    "print(sorted_tupple)\n",
    "print(reverse_sorted_tupple)\n",
    "sorted_dict ={k: v for k, v in sorted_tupple}\n",
    "reverse_sorted_dict ={k: v for k, v in reverse_sorted_tupple}\n",
    "print(\"Ascending: \")\n",
    "print(sorted_dict)\n",
    "print(\"Descending: \")\n",
    "print(reverse_sorted_dict)"
   ]
  },
  {
   "cell_type": "code",
   "execution_count": 1,
   "metadata": {},
   "outputs": [
    {
     "name": "stdout",
     "output_type": "stream",
     "text": [
      "Ascending: \n",
      "{1: 1, 3: 2, 2: 4}\n",
      "Descending: \n",
      "{2: 4, 3: 2, 1: 1}\n"
     ]
    }
   ],
   "source": [
    "dict1 = {1:1,3:2,2:4}\n",
    "sorted_tupple = sorted(dict1.items(),key = lambda item : item[1])\n",
    "reverse_sorted_tupple = sorted(dict1.items(),key = lambda item : item[1],reverse =True)\n",
    "sorted_dict = {k:v for k, v in sorted_tupple}\n",
    "reverse_sorted_dict = {k:v for k, v in reverse_sorted_tupple}\n",
    "print(\"Ascending: \")\n",
    "print(sorted_dict)\n",
    "print(\"Descending: \")\n",
    "print(reverse_sorted_dict)"
   ]
  },
  {
   "cell_type": "code",
   "execution_count": 1,
   "metadata": {},
   "outputs": [
    {
     "name": "stdout",
     "output_type": "stream",
     "text": [
      "[(1, 1), (3, 2), (2, 4)]\n",
      "[(2, 4), (3, 2), (1, 1)]\n",
      "Ascending :\n",
      "{1: 1, 3: 2, 2: 4}\n",
      "Descending :\n",
      "{2: 4, 3: 2, 1: 1}\n"
     ]
    }
   ],
   "source": [
    "import operator\n",
    "from collections import OrderedDict\n",
    "dict1 = {1:1,3:2,2:4}\n",
    "sorted_tupples = sorted(dict1.items(),key = operator.itemgetter(1))\n",
    "reverse_sorted_tupples = sorted(dict1.items(),key = operator.itemgetter(1),reverse =True)\n",
    "print(sorted_tupples)\n",
    "print(reverse_sorted_tupples)\n",
    "sorted_dict1 = OrderedDict()\n",
    "reverse_sorted_dict1 = OrderedDict()\n",
    "for k,v in sorted_tupples:\n",
    "    sorted_dict1[k]=v\n",
    "print(\"Ascending :\")\n",
    "print(dict(sorted_dict1))   \n",
    "for k,v in reverse_sorted_tupples:\n",
    "    reverse_sorted_dict1[k]=v\n",
    "print(\"Descending :\")\n",
    "print(dict(reverse_sorted_dict1))"
   ]
  },
  {
   "cell_type": "code",
   "execution_count": null,
   "metadata": {},
   "outputs": [],
   "source": []
  }
 ],
 "metadata": {
  "kernelspec": {
   "display_name": "Python 3 (ipykernel)",
   "language": "python",
   "name": "python3"
  },
  "language_info": {
   "codemirror_mode": {
    "name": "ipython",
    "version": 3
   },
   "file_extension": ".py",
   "mimetype": "text/x-python",
   "name": "python",
   "nbconvert_exporter": "python",
   "pygments_lexer": "ipython3",
   "version": "3.9.7"
  }
 },
 "nbformat": 4,
 "nbformat_minor": 4
}
