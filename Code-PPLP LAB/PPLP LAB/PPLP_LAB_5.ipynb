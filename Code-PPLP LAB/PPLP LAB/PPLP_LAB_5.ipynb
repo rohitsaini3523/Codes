{
 "cells": [
  {
   "cell_type": "code",
   "execution_count": 14,
   "id": "2e4daa44",
   "metadata": {},
   "outputs": [
    {
     "name": "stdout",
     "output_type": "stream",
     "text": [
      "[10, 2, 3, 4, 5, 2, 9, 2]\n"
     ]
    },
    {
     "data": {
      "text/plain": [
       "[1, 2, 3, 4, 5, 2, 9, 2]"
      ]
     },
     "execution_count": 14,
     "metadata": {},
     "output_type": "execute_result"
    }
   ],
   "source": [
    "#list-simple\n",
    "list1=[1,2,3,4,5,2,9,2]\n",
    "ls = list1.copy()\n",
    "list1[0] = 10\n",
    "print(list1)\n",
    "ls"
   ]
  },
  {
   "cell_type": "code",
   "execution_count": 7,
   "id": "3db92a0a",
   "metadata": {},
   "outputs": [
    {
     "data": {
      "text/plain": [
       "[6, 7, 8, 9, 10]"
      ]
     },
     "execution_count": 7,
     "metadata": {},
     "output_type": "execute_result"
    }
   ],
   "source": [
    "list2=[6,7,8,9,10]\n",
    "list2"
   ]
  },
  {
   "cell_type": "code",
   "execution_count": 3,
   "id": "6562c91d",
   "metadata": {},
   "outputs": [
    {
     "name": "stdout",
     "output_type": "stream",
     "text": [
      "[1, 2, 3, 4, 5, 6, 7, 8, 9, 10]\n"
     ]
    }
   ],
   "source": [
    "#concatenate two list \n",
    "print(list1+list2)"
   ]
  },
  {
   "cell_type": "code",
   "execution_count": 4,
   "id": "2ba93399",
   "metadata": {},
   "outputs": [
    {
     "data": {
      "text/plain": [
       "[1, 2, 3, 4, 5, 6, 7, 8, 9, 10]"
      ]
     },
     "execution_count": 4,
     "metadata": {},
     "output_type": "execute_result"
    }
   ],
   "source": [
    "list1=list1+list2\n",
    "list1"
   ]
  },
  {
   "cell_type": "code",
   "execution_count": 7,
   "id": "8bf31619",
   "metadata": {},
   "outputs": [
    {
     "name": "stdout",
     "output_type": "stream",
     "text": [
      "[3, 4, 5, 6, 7, 8, 9, 10]\n"
     ]
    }
   ],
   "source": [
    "print(list1[2:])"
   ]
  },
  {
   "cell_type": "code",
   "execution_count": 8,
   "id": "e88af866",
   "metadata": {},
   "outputs": [
    {
     "name": "stdout",
     "output_type": "stream",
     "text": [
      "[1, 2, 3, 4, 5, 6, 7, 8, 9, 10]\n"
     ]
    }
   ],
   "source": [
    "print(list1[:])"
   ]
  },
  {
   "cell_type": "code",
   "execution_count": 9,
   "id": "b2547b63",
   "metadata": {},
   "outputs": [
    {
     "name": "stdout",
     "output_type": "stream",
     "text": [
      "3\n"
     ]
    }
   ],
   "source": [
    "list_string=[1,\"abc\",89.99]\n",
    "print(len(list_string))"
   ]
  },
  {
   "cell_type": "code",
   "execution_count": 18,
   "id": "7f7c1bc0",
   "metadata": {},
   "outputs": [
    {
     "name": "stdout",
     "output_type": "stream",
     "text": [
      "T\n"
     ]
    }
   ],
   "source": [
    "nested = [[1,45],34,[\"MIT WPU\"]]\n",
    "print(nested[2][0][2])"
   ]
  },
  {
   "cell_type": "code",
   "execution_count": 25,
   "id": "8c5f5abd",
   "metadata": {},
   "outputs": [
    {
     "name": "stdout",
     "output_type": "stream",
     "text": [
      "[11, 12, 17, 18, 19, 20, 21]\n",
      "[11, 12, 17, 18, 19, 20, 21]\n"
     ]
    }
   ],
   "source": [
    "list1 = [11,12,13,14]\n",
    "list2 = list1\n",
    "list2.append(15)\n",
    "list1[4]=16\n",
    "list1[2:]=[17,18,19,20,21]\n",
    "print(list2)\n",
    "print(list1)"
   ]
  },
  {
   "cell_type": "code",
   "execution_count": 31,
   "id": "f119aea5",
   "metadata": {},
   "outputs": [
    {
     "data": {
      "text/plain": [
       "[11, 12, 17, 18, 19, 20, 21, 1, 2, 3, 4, 5, 1, 2, 3, 4, 5]"
      ]
     },
     "execution_count": 31,
     "metadata": {},
     "output_type": "execute_result"
    }
   ],
   "source": [
    "#list1.extend([1,2,3,4,5])\n",
    "list1=list1+[1,2,3,4,5]\n",
    "list1"
   ]
  },
  {
   "cell_type": "code",
   "execution_count": 3,
   "id": "c09b6866",
   "metadata": {},
   "outputs": [
    {
     "name": "stdout",
     "output_type": "stream",
     "text": [
      "Enter Number of element in list 1: 5\n",
      "Enter elemrnt: 1\n",
      "Enter elemrnt: 3\n",
      "Enter elemrnt: 2\n",
      "Enter elemrnt: 4\n",
      "Enter elemrnt: 6\n",
      "Enter Number of element in list 2: 4\n",
      "Enter element: 6\n",
      "Enter element: 4\n",
      "Enter element: 11\n",
      "Enter element: 10\n",
      "Merged List :  [1, 2, 3, 4, 6, 10, 11]\n"
     ]
    }
   ],
   "source": [
    "a = []\n",
    "c = []\n",
    "def Remove(duplicate):\n",
    "    final =[]\n",
    "    for number in duplicate:\n",
    "        if number not in final:\n",
    "            final.append(number)\n",
    "    return final\n",
    "\n",
    "n1 = int(input(\"Enter Number of element in list 1: \"))\n",
    "for i in range(0,n1):\n",
    "    b=int(input(\"Enter elemrnt: \"))\n",
    "    a.append(b)\n",
    "\n",
    "n2 = int(input(\"Enter Number of element in list 2: \"))\n",
    "for i in range(0,n2):\n",
    "    d=int(input(\"Enter element: \"))\n",
    "    c.append(d)\n",
    "\n",
    "new=a+c\n",
    "new.sort()\n",
    "print(\"Merged List : \",Remove(new))\n"
   ]
  },
  {
   "cell_type": "code",
   "execution_count": 7,
   "id": "0193649a",
   "metadata": {},
   "outputs": [
    {
     "name": "stdout",
     "output_type": "stream",
     "text": [
      "Enter number of element: 5\n",
      "Enter element: 6\n",
      "Enter element: 7\n",
      "Enter element: 9\n",
      "Enter element: 1\n",
      "Enter element: 3\n"
     ]
    },
    {
     "data": {
      "text/plain": [
       "['3', '7', '9', '1', '6']"
      ]
     },
     "execution_count": 7,
     "metadata": {},
     "output_type": "execute_result"
    }
   ],
   "source": [
    "list1=[]\n",
    "n=int(input(\"Enter number of element: \"))\n",
    "for i in range(0,n):\n",
    "    str=input(\"Enter element: \")\n",
    "    list1.append(str)\n",
    "temp=[]\n",
    "temp=list1[0]\n",
    "list1[0]=list1[n-1]\n",
    "list1[n-1]=temp\n",
    "list1\n",
    "    "
   ]
  },
  {
   "cell_type": "code",
   "execution_count": 18,
   "id": "c045dd9c",
   "metadata": {
    "scrolled": false
   },
   "outputs": [
    {
     "name": "stdout",
     "output_type": "stream",
     "text": [
      "Enter number of element for list 1: 3\n",
      "Enter element: 1\n",
      "Enter element: 2\n",
      "Enter element: 3\n",
      "Enter number of element for list 2: 5\n",
      "Enter element: 4\n",
      "Enter element: 5\n",
      "Enter element: 6\n",
      "Enter element: 7\n",
      "Enter element: 8\n"
     ]
    },
    {
     "data": {
      "text/plain": [
       "['1', '4', '2', '5', '3', '6', '7', '8']"
      ]
     },
     "execution_count": 18,
     "metadata": {},
     "output_type": "execute_result"
    }
   ],
   "source": [
    "list1=[]\n",
    "list2=[]\n",
    "n=int(input(\"Enter number of element for list 1: \"))\n",
    "for i in range(0,n):\n",
    "    str=input(\"Enter element: \")\n",
    "    list1.append(str)\n",
    "n1=int(input(\"Enter number of element for list 2: \"))\n",
    "for i in range(0,n1):\n",
    "    str=input(\"Enter element: \")\n",
    "    list2.append(str)\n",
    "i,j=int(0),int(0)\n",
    "list3=[0]*(n+n1)\n",
    "for k in range(0,n+n1+1):\n",
    "    if(i<n):\n",
    "        list3[i+j] = list1[i]\n",
    "        i+=1\n",
    "    if(j<n1):\n",
    "        list3[i+j] = list2[j]\n",
    "        j+=1\n",
    "    k = i+j\n",
    "list3"
   ]
  },
  {
   "cell_type": "code",
   "execution_count": 4,
   "id": "2414b1be",
   "metadata": {},
   "outputs": [
    {
     "name": "stdout",
     "output_type": "stream",
     "text": [
      "Enter number of element for list 1: 6\n",
      "Enter element: 2\n",
      "Enter element: 5\n",
      "Enter element: 6\n",
      "Enter element: 7\n",
      "Enter element: 4\n",
      "Enter element: 9\n",
      "['2', '6', '4']\n",
      "['5', '7', '9']\n"
     ]
    }
   ],
   "source": [
    "list1=[]\n",
    "list2=[]\n",
    "list3=[]\n",
    "n=int(input(\"Enter number of element for list 1: \"))\n",
    "for i in range(0,n):\n",
    "    str=input(\"Enter element: \")\n",
    "    list1.append(str)\n",
    "for i in range(0,n):\n",
    "    if(int(list1[i])%2)==0:\n",
    "        list2.append(list1[i])\n",
    "    else:\n",
    "        list3.append(list1[i])\n",
    "print(list2)\n",
    "print(list3)\n",
    "    \n"
   ]
  },
  {
   "cell_type": "code",
   "execution_count": 5,
   "id": "08e47f80",
   "metadata": {},
   "outputs": [
    {
     "name": "stdout",
     "output_type": "stream",
     "text": [
      "Enter number of element for list 1: 10\n",
      "Enter element: 1\n",
      "Enter element: 2\n",
      "Enter element: 3\n",
      "Enter element: 4\n",
      "Enter element: 5\n",
      "Enter element: 6\n",
      "Enter element: 7\n",
      "Enter element: 8\n",
      "Enter element: 9\n",
      "Enter element: 10\n",
      "Average:  5.5\n"
     ]
    }
   ],
   "source": [
    "list1=[]\n",
    "sum=0\n",
    "n=int(input(\"Enter number of element for list 1: \"))\n",
    "for i in range(0,n):\n",
    "    str=input(\"Enter element: \")\n",
    "    list1.append(str)\n",
    "    sum+=int(list1[i])\n",
    "print(\"Average: \",sum/len(list1))"
   ]
  },
  {
   "cell_type": "code",
   "execution_count": 14,
   "id": "726ee7a7",
   "metadata": {},
   "outputs": [
    {
     "name": "stdout",
     "output_type": "stream",
     "text": [
      "Enter number of elements:6\n",
      "Enter element:7\n",
      "Enter element:3\n",
      "Enter element:6\n",
      "Enter element:5\n",
      "Enter element:4\n",
      "Enter element:1\n",
      "6\n"
     ]
    }
   ],
   "source": [
    "a=[]\n",
    "count=2\n",
    "n=int(input(\"Enter number of elements:\"))\n",
    "for i in range(1,n+1):\n",
    "    b=int(input(\"Enter element:\"))\n",
    "    a.append(b)\n",
    "for i in range(0,len(a)):\n",
    "    for j in range(0,len(a)-i-1):\n",
    "        if(a[j]>a[j+1]) and count>0:\n",
    "            temp=a[j]\n",
    "            a[j]=a[j+1]\n",
    "            a[j+1]=temp \n",
    "    count-=1\n",
    "print(a[n-2])"
   ]
  }
 ],
 "metadata": {
  "kernelspec": {
   "display_name": "Python 3 (ipykernel)",
   "language": "python",
   "name": "python3"
  },
  "language_info": {
   "codemirror_mode": {
    "name": "ipython",
    "version": 3
   },
   "file_extension": ".py",
   "mimetype": "text/x-python",
   "name": "python",
   "nbconvert_exporter": "python",
   "pygments_lexer": "ipython3",
   "version": "3.9.7"
  }
 },
 "nbformat": 4,
 "nbformat_minor": 5
}
