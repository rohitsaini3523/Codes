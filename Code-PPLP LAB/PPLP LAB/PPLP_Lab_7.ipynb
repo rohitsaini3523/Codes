{
 "cells": [
  {
   "cell_type": "code",
   "execution_count": 8,
   "id": "0431ab71",
   "metadata": {},
   "outputs": [
    {
     "name": "stdout",
     "output_type": "stream",
     "text": [
      "A: 2\n",
      "B: 0\n",
      "Not possible\n",
      "Done!\n"
     ]
    }
   ],
   "source": [
    "a = int(input(\"A: \"))\n",
    "b = int(input(\"B: \"))\n",
    "try:\n",
    "    res = a/b\n",
    "    print(res)\n",
    "except:\n",
    "    print(\"Not possible\")\n",
    "print(\"Done!\")"
   ]
  },
  {
   "cell_type": "code",
   "execution_count": 1,
   "id": "97e80506",
   "metadata": {},
   "outputs": [
    {
     "name": "stdout",
     "output_type": "stream",
     "text": [
      "For Matrix 1\n"
     ]
    },
    {
     "name": "stdin",
     "output_type": "stream",
     "text": [
      "Enter rows :  2\n",
      "Enter columns:  2\n"
     ]
    },
    {
     "name": "stdout",
     "output_type": "stream",
     "text": [
      "For Matrix 2\n"
     ]
    },
    {
     "name": "stdin",
     "output_type": "stream",
     "text": [
      "Enter rows :  2\n",
      "Enter columns:  2\n",
      "M1: 1\n",
      "M1: 2\n",
      "M1: 3\n",
      "M1: 4\n",
      "M2: 1\n",
      "M2: 2\n",
      "M2: 3\n",
      "M2: 4\n"
     ]
    },
    {
     "name": "stdout",
     "output_type": "stream",
     "text": [
      "[[2. 4.]\n",
      " [6. 8.]]\n",
      "[[0. 0.]\n",
      " [0. 0.]]\n",
      "[[ 7. 10.]\n",
      " [15. 22.]]\n",
      "[[1. 1.]\n",
      " [1. 1.]]\n"
     ]
    }
   ],
   "source": [
    "import numpy as np\n",
    "flag = int(2)\n",
    "row,col,row1,col1 = int(0),int(0),int(0),int(0)\n",
    "def accept():\n",
    "    print(\"For Matrix 1\")\n",
    "    row = int(input(\"Enter rows : \"))\n",
    "    col = int(input(\"Enter columns: \"))\n",
    "    print(\"For Matrix 2\")\n",
    "    row1 = int(input(\"Enter rows : \"))\n",
    "    col1 = int(input(\"Enter columns: \"))\n",
    "    M1 =np.zeros((row,col))\n",
    "    M2 =np.zeros((row1,col1))\n",
    "    if(check(row,col,row1,col1)):\n",
    "        for i in range(0,row):\n",
    "            for j in range(0,col):\n",
    "                M1[i][j] = int(input(\"M1:\"))\n",
    "        for i in range(0,row1):\n",
    "            for j in range(0,col1):\n",
    "                M2[i][j] = int(input(\"M2:\"))\n",
    "        add(M1,M2)\n",
    "        sub(M1,M2)\n",
    "        mult(M1,M2,row,col1,col)\n",
    "        div(M1,M2,row,col)\n",
    "    elif(check1(row,col,row1,col1)):\n",
    "        for i in range(0,row):\n",
    "            for j in range(0,col):\n",
    "                M1[i][j] = int(input(\"M1:\"))\n",
    "        for i in range(0,row1):\n",
    "            for j in range(0,col1):\n",
    "                M2[i][j] = int(input(\"M2:\"))\n",
    "        mult(M1,M2,row,col1,col) \n",
    "    else:\n",
    "        accept()\n",
    "def check(row,col,row1,col1):\n",
    "    try:\n",
    "        m = 1/((row==row1) and (col==col1))\n",
    "        return m\n",
    "    except:\n",
    "        print(\"Not Equal! For Add,Sub,Div\")\n",
    "        \n",
    "def check1(row,col,row1,col1):\n",
    "    try:\n",
    "        m = 1/(col==row1)\n",
    "        return m\n",
    "    except:\n",
    "        print(\"Not Equal! For Mul\")\n",
    "        \n",
    "def add(M1,M2):\n",
    "    if(check(row,col,row1,col1)):\n",
    "            print(M1+M2)\n",
    "def sub(M1,M2):\n",
    "    try:\n",
    "        if(check(row,col,row1,col1)):\n",
    "            print(M1-M2)\n",
    "    except:\n",
    "        print(\"Not Possible!\")\n",
    "def mult(M1,M2,row,col1,col):\n",
    "        result =np.zeros((row,col1))\n",
    "        for i in range(0,row):\n",
    "            for j in range(0,col1):\n",
    "                for k in range(0,col):\n",
    "                    result[i][j] += M1[i][k] * M2[k][j]\n",
    "        print(result)\n",
    "def div(M1,M2,row,col):\n",
    "    try:\n",
    "        for i in range(0,row):\n",
    "            for j in range(0,col):\n",
    "                if(M2[i][j] == 0):\n",
    "                    flag =0\n",
    "                    raise ZeroDivisionError \n",
    "                else:\n",
    "                    flag = 1\n",
    "        if(flag ==1):\n",
    "            print(M1/M2)\n",
    "    except ZeroDivisionError:\n",
    "        print(\"Division Not Possible!\")\n",
    "\n",
    "accept()\n"
   ]
  },
  {
   "cell_type": "markdown",
   "id": "c74f11e3",
   "metadata": {},
   "source": [
    " "
   ]
  }
 ],
 "metadata": {
  "kernelspec": {
   "display_name": "Python 3 (ipykernel)",
   "language": "python",
   "name": "python3"
  },
  "language_info": {
   "codemirror_mode": {
    "name": "ipython",
    "version": 3
   },
   "file_extension": ".py",
   "mimetype": "text/x-python",
   "name": "python",
   "nbconvert_exporter": "python",
   "pygments_lexer": "ipython3",
   "version": "3.9.7"
  }
 },
 "nbformat": 4,
 "nbformat_minor": 5
}
