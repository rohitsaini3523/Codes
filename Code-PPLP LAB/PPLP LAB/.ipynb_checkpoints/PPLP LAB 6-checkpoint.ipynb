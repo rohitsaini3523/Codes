{
 "cells": [
  {
   "cell_type": "code",
   "execution_count": 1,
   "id": "5b2a0e47",
   "metadata": {
    "scrolled": true
   },
   "outputs": [
    {
     "name": "stdout",
     "output_type": "stream",
     "text": [
      "A= \n",
      " [[1. 2. 3.]\n",
      " [4. 5. 6.]]\n",
      "5.0\n",
      "[1 2 3]\n",
      "[[0. 0. 0. 0.]\n",
      " [0. 0. 0. 0.]\n",
      " [0. 0. 0. 0.]]\n"
     ]
    }
   ],
   "source": [
    "import numpy as np\n",
    "a3 = np.array([[1,2,3],[4,5,6]],dtype='float')\n",
    "print(\"A= \\n\",a3)\n",
    "print(a3[1,1])\n",
    "b3 = np.array((1,2,3))\n",
    "print(b3)\n",
    "c3 = np.zeros((3,4))\n",
    "print(c3)"
   ]
  },
  {
   "cell_type": "code",
   "execution_count": 22,
   "id": "1821ae67",
   "metadata": {},
   "outputs": [
    {
     "name": "stdout",
     "output_type": "stream",
     "text": [
      "[ 0  5 10 15 20 25]\n"
     ]
    }
   ],
   "source": [
    "f = np.arange(0,30,5)\n",
    "print(f)"
   ]
  },
  {
   "cell_type": "code",
   "execution_count": 23,
   "id": "f36558ad",
   "metadata": {},
   "outputs": [
    {
     "name": "stdout",
     "output_type": "stream",
     "text": [
      "[[-1.   2.   0.   4. ]\n",
      " [ 4.  -0.5  6.   0. ]\n",
      " [ 2.6  0.   7.   8. ]\n",
      " [ 3.  -7.   4.   2. ]]\n",
      "[[2.6 7. ]\n",
      " [3.  4. ]]\n"
     ]
    }
   ],
   "source": [
    "arr = np.array([[-1,2,0,4],[4,-0.5,6,0],[2.6,0,7,8],[3,-7,4,2.0]])\n",
    "print(arr)\n",
    "#temp = arr[:2,:2]\n",
    "#temp = arr[:3,:]\n",
    "#temp = arr[2:,2:]\n",
    "temp = arr[2:, : :2]\n",
    "print(temp)"
   ]
  },
  {
   "cell_type": "code",
   "execution_count": 24,
   "id": "3eb076d2",
   "metadata": {},
   "outputs": [
    {
     "name": "stdout",
     "output_type": "stream",
     "text": [
      "[[7.]]\n"
     ]
    }
   ],
   "source": [
    "#create an array of 4*4 and access element [2][2]\n",
    "ar = np.array([[-1,2,0,4],[4,-0.5,6,0],[2.6,0,7,8],[3,-7,4,2.0]])\n",
    "temp = ar[2:3, 2:3]\n",
    "print(temp)"
   ]
  },
  {
   "cell_type": "code",
   "execution_count": 25,
   "id": "3f9c36ad",
   "metadata": {},
   "outputs": [
    {
     "name": "stdout",
     "output_type": "stream",
     "text": [
      "[4. 6. 0. 3.]\n",
      "[[False  True False  True]\n",
      " [ True False  True False]\n",
      " [ True False  True  True]\n",
      " [ True False  True  True]]\n",
      "[2.  4.  4.  6.  2.6 7.  8.  3.  4.  2. ]\n"
     ]
    }
   ],
   "source": [
    "#print arra elemene considering the index\n",
    "temp  =arr[[0,1,2,3],[3,2,1,0]]\n",
    "print(temp)\n",
    "cond = arr > 0\n",
    "print(cond)\n",
    "temp =arr[cond]\n",
    "print(temp)"
   ]
  },
  {
   "cell_type": "code",
   "execution_count": 26,
   "id": "7157212a",
   "metadata": {},
   "outputs": [
    {
     "name": "stdout",
     "output_type": "stream",
     "text": [
      "[[ -2.    4.    0.    8. ]\n",
      " [  8.   -1.   12.    0. ]\n",
      " [  5.2   0.   14.   16. ]\n",
      " [  6.  -14.    8.    4. ]]\n",
      "[[ 0.   3.   1.   5. ]\n",
      " [ 5.   0.5  7.   1. ]\n",
      " [ 3.6  1.   8.   9. ]\n",
      " [ 4.  -6.   5.   3. ]]\n",
      "[[-10.  20.   0.  40.]\n",
      " [ 40.  -5.  60.   0.]\n",
      " [ 26.   0.  70.  80.]\n",
      " [ 30. -70.  40.  20.]]\n"
     ]
    }
   ],
   "source": [
    "temp =arr+1\n",
    "temp2 =arr*10\n",
    "arr*=2\n",
    "print(arr)\n",
    "print(temp)\n",
    "print(temp2)"
   ]
  },
  {
   "cell_type": "code",
   "execution_count": 27,
   "id": "dec146d8",
   "metadata": {},
   "outputs": [
    {
     "name": "stdout",
     "output_type": "stream",
     "text": [
      "[[1 2 3]\n",
      " [4 5 6]\n",
      " [7 8 9]]\n"
     ]
    }
   ],
   "source": [
    "a = np.array([[1,2,3],[4,5,6],[7,8,9]])\n",
    "print(a)\n",
    "#print(a.T)"
   ]
  },
  {
   "cell_type": "code",
   "execution_count": 33,
   "id": "ae00826f",
   "metadata": {
    "scrolled": false
   },
   "outputs": [
    {
     "name": "stdout",
     "output_type": "stream",
     "text": [
      "9\n",
      "Max in:  [7 8 9]\n"
     ]
    }
   ],
   "source": [
    "print(a.max())\n",
    "print(\"Max in: \",a.max(axis=0))\n",
    "#print(a.max(axis=1))\n",
    "#print(a.min())\n",
    "#print(a.sum())\n",
    "#print(a.cumsum(axis=1))"
   ]
  },
  {
   "cell_type": "code",
   "execution_count": 18,
   "id": "a10bea5e",
   "metadata": {
    "scrolled": true
   },
   "outputs": [
    {
     "name": "stdout",
     "output_type": "stream",
     "text": [
      "Enter rows: 3\n",
      "Enter columns: 3\n",
      "1\n",
      "2\n",
      "3\n",
      "4\n",
      "5\n",
      "6\n",
      "7\n",
      "8\n",
      "9\n",
      "[[1. 2. 3.]\n",
      " [4. 5. 6.]\n",
      " [7. 8. 9.]]\n",
      "[[1. 4. 7.]\n",
      " [2. 5. 8.]\n",
      " [3. 6. 9.]]\n",
      "Not Symmetric\n"
     ]
    }
   ],
   "source": [
    "import numpy as np\n",
    "def transpose(a,row,col):\n",
    "    for i in range(0,row):\n",
    "        for j in range(0,col):\n",
    "            b[i][j] = a[j][i]\n",
    "    return b  \n",
    "def check(a,b,row,col):\n",
    "    for i in range(0,row):\n",
    "        for j in range(0,col):\n",
    "            if(a[i][j]!=b[i][j]):\n",
    "                return False\n",
    "    return True\n",
    "row = int(input(\"Enter rows: \"))\n",
    "col = int(input(\"Enter columns: \"))\n",
    "array1 =np.zeros((row,col))\n",
    "b =np.zeros((col,row))\n",
    "#print(array1)\n",
    "for i in range(0,row):\n",
    "    for j in range(0,col):\n",
    "        array1[i][j] = int(input())\n",
    "print(array1)\n",
    "a = array1\n",
    "b = transpose(array1,row,col)\n",
    "print(b)\n",
    "if(check(a,b,row,col)):\n",
    "    print(\"Symmetric\")\n",
    "else:\n",
    "    print(\"Not Symmetric\")"
   ]
  },
  {
   "cell_type": "code",
   "execution_count": 37,
   "id": "5920cd0d",
   "metadata": {},
   "outputs": [
    {
     "name": "stdout",
     "output_type": "stream",
     "text": [
      "4.0\n",
      "6.0\n",
      "8.0\n",
      "4.0\n"
     ]
    }
   ],
   "source": [
    "ar = np.array([[-1,2,0,4],[4,-0.5,6,0],[2.6,0,7,8],[3,-7,4,2.0]])\n",
    "for i in range(0,4):\n",
    "    temp = ar[i:i+1,0:4]\n",
    "    print(temp.max())\n"
   ]
  },
  {
   "cell_type": "code",
   "execution_count": 7,
   "id": "77978393",
   "metadata": {},
   "outputs": [
    {
     "name": "stdout",
     "output_type": "stream",
     "text": [
      "[[ -2.    4.    2.    8. ]\n",
      " [  8.   -1.   12.    2. ]\n",
      " [  5.2   2.   14.   16. ]\n",
      " [  6.  -14.    8.    4. ]]\n",
      "[[0. 0. 0. 0.]\n",
      " [0. 0. 0. 0.]\n",
      " [0. 0. 0. 0.]\n",
      " [0. 0. 0. 0.]]\n",
      "[[ 1.    4.    1.   16.  ]\n",
      " [16.    0.25 36.    1.  ]\n",
      " [ 6.76  1.   49.   64.  ]\n",
      " [ 9.   49.   16.    4.  ]]\n",
      "[[1. 1. 1. 1.]\n",
      " [1. 1. 1. 1.]\n",
      " [1. 1. 1. 1.]\n",
      " [1. 1. 1. 1.]]\n"
     ]
    }
   ],
   "source": [
    "ar = np.array([[-1,2,1,4],[4,-0.5,6,1],[2.6,1,7,8],[3,-7,4,2.0]])\n",
    "ab = np.array([[-1,2,1,4],[4,-0.5,6,1],[2.6,1,7,8],[3,-7,4,2.0]])\n",
    "print(ar+ab)\n",
    "print(ar-ab)\n",
    "print(ar*ab)\n",
    "print(ar/ab)"
   ]
  },
  {
   "cell_type": "code",
   "execution_count": 4,
   "id": "91f06ae0",
   "metadata": {},
   "outputs": [
    {
     "name": "stdout",
     "output_type": "stream",
     "text": [
      "[[-1.   2.   1.   4. ]\n",
      " [ 4.  -0.5  6.   1. ]\n",
      " [ 2.6  1.   7.   8. ]\n",
      " [ 3.  -7.   4.   2. ]]\n",
      "[[-1.   2.   1.   4. ]\n",
      " [ 4.  -0.5  6.   1. ]\n",
      " [ 2.6  1.   7.   8. ]\n",
      " [ 3.  -7.   4.   2. ]]\n",
      "[[ 23.6  -30.    34.    14.  ]\n",
      " [ 12.6    7.25  47.    65.5 ]\n",
      " [ 43.6  -44.3   89.6   83.4 ]\n",
      " [-14.6   -0.5   -3.    41.  ]]\n"
     ]
    }
   ],
   "source": [
    "ar = np.array([[-1,2,1,4],[4,-0.5,6,1],[2.6,1,7,8],[3,-7,4,2.0]])\n",
    "ab = np.array([[-1,2,1,4],[4,-0.5,6,1],[2.6,1,7,8],[3,-7,4,2.0]])\n",
    "print(ar)\n",
    "print(ab)\n",
    "result =np.zeros((4,4))\n",
    "for i in range(0,4):\n",
    "    for j in range(0,4):\n",
    "        for k in range(0,4):\n",
    "            result[i][j] += ar[i][k] * ab[k][j]\n",
    "print(result)"
   ]
  },
  {
   "cell_type": "code",
   "execution_count": 6,
   "id": "2c8ca6c7",
   "metadata": {},
   "outputs": [
    {
     "name": "stdout",
     "output_type": "stream",
     "text": [
      "[[-1.   2.   1.   4. ]\n",
      " [ 4.  -0.5  6.   1. ]\n",
      " [ 2.6  1.   7.   8. ]\n",
      " [ 3.  -7.   4.   2. ]]\n",
      "[[-1.   2.   1.   4. ]\n",
      " [ 4.  -0.5  6.   1. ]\n",
      " [ 2.6  1.   7.   8. ]\n",
      " [ 3.  -7.   4.   2. ]]\n",
      "[[ -2.    4.    2.    8. ]\n",
      " [  8.   -1.   12.    2. ]\n",
      " [  5.2   2.   14.   16. ]\n",
      " [  6.  -14.    8.    4. ]]\n"
     ]
    }
   ],
   "source": [
    "ar = np.array([[-1,2,1,4],[4,-0.5,6,1],[2.6,1,7,8],[3,-7,4,2.0]])\n",
    "ab = np.array([[-1,2,1,4],[4,-0.5,6,1],[2.6,1,7,8],[3,-7,4,2.0]])\n",
    "print(ar)\n",
    "print(ab)\n",
    "result =np.zeros((4,4))\n",
    "for i in range(0,4):\n",
    "    for j in range(0,4):\n",
    "            result[i][j] = ar[i][j] + ab[i][j]\n",
    "print(result)"
   ]
  },
  {
   "cell_type": "code",
   "execution_count": null,
   "id": "e04e2c53",
   "metadata": {},
   "outputs": [],
   "source": []
  }
 ],
 "metadata": {
  "kernelspec": {
   "display_name": "Python 3 (ipykernel)",
   "language": "python",
   "name": "python3"
  },
  "language_info": {
   "codemirror_mode": {
    "name": "ipython",
    "version": 3
   },
   "file_extension": ".py",
   "mimetype": "text/x-python",
   "name": "python",
   "nbconvert_exporter": "python",
   "pygments_lexer": "ipython3",
   "version": "3.9.7"
  }
 },
 "nbformat": 4,
 "nbformat_minor": 5
}
