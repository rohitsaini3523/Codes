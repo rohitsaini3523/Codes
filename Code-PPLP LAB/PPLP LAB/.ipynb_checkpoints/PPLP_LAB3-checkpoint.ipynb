{
 "cells": [
  {
   "cell_type": "code",
   "execution_count": 1,
   "source": [
    "def my_fuction():\r\n",
    "    print(\"Hello World\")\r\n",
    "my_fuction()"
   ],
   "outputs": [
    {
     "output_type": "stream",
     "name": "stdout",
     "text": [
      "Hello World\n"
     ]
    }
   ],
   "metadata": {}
  },
  {
   "cell_type": "code",
   "execution_count": 2,
   "source": [
    "def my_function(fname):\r\n",
    "    print(fname +\"Martin\")\r\n",
    "my_function(\"Emil\")\r\n",
    "my_function(\"Tobi\")"
   ],
   "outputs": [
    {
     "output_type": "stream",
     "name": "stdout",
     "text": [
      "EmilMartin\n",
      "TobiMartin\n"
     ]
    }
   ],
   "metadata": {}
  },
  {
   "cell_type": "code",
   "execution_count": 3,
   "source": [
    "def addition(a,b):\r\n",
    "    return(a+b)\r\n",
    "print(addition(2,4))"
   ],
   "outputs": [
    {
     "output_type": "stream",
     "name": "stdout",
     "text": [
      "6\n"
     ]
    }
   ],
   "metadata": {}
  },
  {
   "cell_type": "code",
   "execution_count": 4,
   "source": [
    "def counter(a):\r\n",
    "    print(\"Inside the called Function \",id(a))\r\n",
    "    a = a + 1\r\n",
    "    print(\"After changing Value Inside the called Function \",id(a))\r\n",
    "    return a\r\n",
    "count = 0 \r\n",
    "print(\"Before calling function: \",id(count))\r\n",
    "counter(count)\r\n",
    "count+=2\r\n",
    "print(\"After calling function \",id(count))\r\n",
    "print(\"Value of count is \",count)"
   ],
   "outputs": [
    {
     "output_type": "stream",
     "name": "stdout",
     "text": [
      "Before calling function:  2176296315152\n",
      "Inside the called Function  2176296315152\n",
      "After changing Value Inside the called Function  2176296315184\n",
      "After calling function  2176296315216\n",
      "Value of count is  2\n"
     ]
    }
   ],
   "metadata": {}
  },
  {
   "cell_type": "code",
   "execution_count": 5,
   "source": [
    "def factorial(n):      \r\n",
    "    if(n==1 or n==0):\r\n",
    "        return 1\r\n",
    "    else:\r\n",
    "        return n*factorial(n-1)\r\n",
    "num = int(input(\"Enter number: \"))\r\n",
    "if(num<0):\r\n",
    "        print(\"Invalid Input\")\r\n",
    "else:\r\n",
    "    print(factorial(num))"
   ],
   "outputs": [
    {
     "output_type": "stream",
     "name": "stdout",
     "text": [
      "Enter number: 3\n",
      "6\n"
     ]
    }
   ],
   "metadata": {}
  },
  {
   "cell_type": "code",
   "execution_count": 6,
   "source": [
    "def factorial(n):\r\n",
    "    if(n==0 or n==1):\r\n",
    "        return 1\r\n",
    "    else:\r\n",
    "        fact =1\r\n",
    "        while(n>1):\r\n",
    "            fact*=n\r\n",
    "            n-=1\r\n",
    "        return fact\r\n",
    "num=int(input(\"Enter number: \"))\r\n",
    "if(num<0):\r\n",
    "        print(\"Invalid Input\")\r\n",
    "else:\r\n",
    "    print(\"Factorial of \",num,\"is\",factorial(num))"
   ],
   "outputs": [
    {
     "output_type": "stream",
     "name": "stdout",
     "text": [
      "Enter number: -1\n",
      "Invalid Input\n"
     ]
    }
   ],
   "metadata": {}
  },
  {
   "cell_type": "code",
   "execution_count": 7,
   "source": [
    "import math\r\n",
    "num = int(input(\"Enter number: \"))\r\n",
    "print(\"Factorial \",math.factorial(num))"
   ],
   "outputs": [
    {
     "output_type": "stream",
     "name": "stdout",
     "text": [
      "Enter number: 7\n",
      "Factorial  5040\n"
     ]
    }
   ],
   "metadata": {}
  },
  {
   "cell_type": "code",
   "execution_count": 8,
   "source": [
    "def addition(a,b):\r\n",
    "    return (a+b)\r\n",
    "def subtraction(a,b):\r\n",
    "    return (a-b)\r\n",
    "def multiplication(a,b):\r\n",
    "    return (a*b)\r\n",
    "def division(a,b):\r\n",
    "    return (a/b)\r\n",
    "choice=0\r\n",
    "a=int(input(\"Enter number1: \"))\r\n",
    "b=int(input(\"Enter number2: \"))\r\n",
    "while(choice!=5):\r\n",
    "    print(\"Menu\")\r\n",
    "    print(\"1.addition\")\r\n",
    "    print(\"2.Subtration\")\r\n",
    "    print(\"3.Multiplication\")\r\n",
    "    print(\"4.Division\")\r\n",
    "    print(\"5.Exit\")\r\n",
    "    choice=int(input(\"Enter Choice: \"))\r\n",
    "    if choice==1: print(addition(a,b))\r\n",
    "    elif choice==2: print(subtraction(a,b))\r\n",
    "    elif choice==3: print(multiplication(a,b))\r\n",
    "    elif choice==4: print(division(a,b))\r\n",
    "    else: exit()"
   ],
   "outputs": [
    {
     "output_type": "stream",
     "name": "stdout",
     "text": [
      "Enter number1: 10\n",
      "Enter number2: 5\n",
      "Menu\n",
      "1.addition\n",
      "2.Subtration\n",
      "3.Multiplication\n",
      "4.Division\n",
      "5.Exit\n",
      "Enter Choice: 1\n",
      "15\n",
      "Menu\n",
      "1.addition\n",
      "2.Subtration\n",
      "3.Multiplication\n",
      "4.Division\n",
      "5.Exit\n",
      "Enter Choice: 2\n",
      "5\n",
      "Menu\n",
      "1.addition\n",
      "2.Subtration\n",
      "3.Multiplication\n",
      "4.Division\n",
      "5.Exit\n",
      "Enter Choice: 3\n",
      "50\n",
      "Menu\n",
      "1.addition\n",
      "2.Subtration\n",
      "3.Multiplication\n",
      "4.Division\n",
      "5.Exit\n",
      "Enter Choice: 4\n",
      "2.0\n",
      "Menu\n",
      "1.addition\n",
      "2.Subtration\n",
      "3.Multiplication\n",
      "4.Division\n",
      "5.Exit\n",
      "Enter Choice: 5\n"
     ]
    }
   ],
   "metadata": {}
  },
  {
   "cell_type": "code",
   "execution_count": 1,
   "source": [
    "def fibonacii(n):\r\n",
    "    if n<=1:\r\n",
    "        return n\r\n",
    "    else:\r\n",
    "        return(fibonacii(n-1) + fibonacii(n-2))\r\n",
    "\r\n",
    "n=int(input(\"Enter the number of terms : \"))\r\n",
    "if n<= 0:\r\n",
    "    print(\"Invalid Input\")\r\n",
    "else:\r\n",
    "    print(\"Fibonacci : \")\r\n",
    "    for i in range(n):\r\n",
    "        print(fibonacii(i))"
   ],
   "outputs": [
    {
     "output_type": "stream",
     "name": "stdout",
     "text": [
      "Enter the number of terms : 6\n",
      "Fibonacci : \n",
      "0\n",
      "1\n",
      "1\n",
      "2\n",
      "3\n",
      "5\n"
     ]
    }
   ],
   "metadata": {}
  },
  {
   "cell_type": "code",
   "execution_count": 2,
   "source": [
    "def triangle(n):\r\n",
    "    k=n-1\r\n",
    "    for i in range(0,n):\r\n",
    "        for j in range(0,k):\r\n",
    "            print(end=\" \")\r\n",
    "        k = k-1\r\n",
    "        for j in range (0,i+1):\r\n",
    "            print(\"* \", end=\"\")\r\n",
    "        print(\"\\r\")\r\n",
    "n=int(input(\"Enter Rows: \"))\r\n",
    "triangle(n)"
   ],
   "outputs": [
    {
     "output_type": "stream",
     "name": "stdout",
     "text": [
      "      * \n",
      "     * * \n",
      "    * * * \n",
      "   * * * * \n",
      "  * * * * * \n",
      " * * * * * * \n",
      "* * * * * * * \n"
     ]
    }
   ],
   "metadata": {}
  },
  {
   "cell_type": "code",
   "execution_count": 3,
   "source": [
    "def t(n):\r\n",
    "    k=n\r\n",
    "    for i in range(1,n+1):\r\n",
    "        for j in range(0,k):\r\n",
    "            print(end=\" \")\r\n",
    "        k = k-1\r\n",
    "        for j in range (0,i):\r\n",
    "            print(i, end=\" \")\r\n",
    "        print(\"\\r\")\r\n",
    "n=int(input(\"Enter Rows: \"))\r\n",
    "t(n)"
   ],
   "outputs": [
    {
     "output_type": "stream",
     "name": "stdout",
     "text": [
      "Enter Rows: 7\n",
      "       1 \n",
      "      2 2 \n",
      "     3 3 3 \n",
      "    4 4 4 4 \n",
      "   5 5 5 5 5 \n",
      "  6 6 6 6 6 6 \n",
      " 7 7 7 7 7 7 7 \n"
     ]
    }
   ],
   "metadata": {}
  }
 ],
 "metadata": {
  "kernelspec": {
   "name": "python3",
   "display_name": "Python 3.9.6 64-bit"
  },
  "language_info": {
   "codemirror_mode": {
    "name": "ipython",
    "version": 3
   },
   "file_extension": ".py",
   "mimetype": "text/x-python",
   "name": "python",
   "nbconvert_exporter": "python",
   "pygments_lexer": "ipython3",
   "version": "3.9.6"
  },
  "interpreter": {
   "hash": "4939cee7d422d5d39ee16b2098a2003c48e3d32b241388eaf77ab70ce4a2e0c8"
  }
 },
 "nbformat": 4,
 "nbformat_minor": 5
}