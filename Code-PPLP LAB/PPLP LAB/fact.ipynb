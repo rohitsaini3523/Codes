{
 "cells": [
  {
   "cell_type": "code",
   "execution_count": 1,
   "source": [
    "def factorial(n):      \r\n",
    "    if(n==1 or n==0):\r\n",
    "        return 1\r\n",
    "    else:\r\n",
    "        return n*factorial(n-1)"
   ],
   "outputs": [],
   "metadata": {}
  }
 ],
 "metadata": {
  "kernelspec": {
   "name": "python3",
   "display_name": "Python 3.9.6 64-bit"
  },
  "language_info": {
   "codemirror_mode": {
    "name": "ipython",
    "version": 3
   },
   "file_extension": ".py",
   "mimetype": "text/x-python",
   "name": "python",
   "nbconvert_exporter": "python",
   "pygments_lexer": "ipython3",
   "version": "3.9.6"
  },
  "interpreter": {
   "hash": "4939cee7d422d5d39ee16b2098a2003c48e3d32b241388eaf77ab70ce4a2e0c8"
  }
 },
 "nbformat": 4,
 "nbformat_minor": 5
}