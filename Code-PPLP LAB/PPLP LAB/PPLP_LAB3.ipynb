{
 "cells": [
  {
   "cell_type": "code",
   "execution_count": 1,
   "id": "c7189a17",
   "metadata": {},
   "outputs": [
    {
     "name": "stdout",
     "output_type": "stream",
     "text": [
      "Hello World\n"
     ]
    }
   ],
   "source": [
    "def my_fuction():\n",
    "    print(\"Hello World\")\n",
    "my_fuction()"
   ]
  },
  {
   "cell_type": "code",
   "execution_count": 2,
   "id": "fc9e3d93",
   "metadata": {},
   "outputs": [
    {
     "name": "stdout",
     "output_type": "stream",
     "text": [
      "EmilMartin\n",
      "TobiMartin\n"
     ]
    }
   ],
   "source": [
    "def my_function(fname):\n",
    "    print(fname +\"Martin\")\n",
    "my_function(\"Emil\")\n",
    "my_function(\"Tobi\")"
   ]
  },
  {
   "cell_type": "code",
   "execution_count": 3,
   "id": "fb1eb9ef",
   "metadata": {},
   "outputs": [
    {
     "name": "stdout",
     "output_type": "stream",
     "text": [
      "6\n"
     ]
    }
   ],
   "source": [
    "def addition(a,b):\n",
    "    return(a+b)\n",
    "print(addition(2,4))"
   ]
  },
  {
   "cell_type": "code",
   "execution_count": 4,
   "id": "a6d879f1",
   "metadata": {},
   "outputs": [
    {
     "name": "stdout",
     "output_type": "stream",
     "text": [
      "Before calling function:  2176296315152\n",
      "Inside the called Function  2176296315152\n",
      "After changing Value Inside the called Function  2176296315184\n",
      "After calling function  2176296315216\n",
      "Value of count is  2\n"
     ]
    }
   ],
   "source": [
    "def counter(a):\n",
    "    print(\"Inside the called Function \",id(a))\n",
    "    a = a + 1\n",
    "    print(\"After changing Value Inside the called Function \",id(a))\n",
    "    return a\n",
    "count = 0 \n",
    "print(\"Before calling function: \",id(count))\n",
    "counter(count)\n",
    "count+=2\n",
    "print(\"After calling function \",id(count))\n",
    "print(\"Value of count is \",count)"
   ]
  },
  {
   "cell_type": "code",
   "execution_count": 5,
   "id": "1f010e17",
   "metadata": {},
   "outputs": [
    {
     "name": "stdout",
     "output_type": "stream",
     "text": [
      "Enter number: 3\n",
      "6\n"
     ]
    }
   ],
   "source": [
    "def factorial(n):      \n",
    "    if(n==1 or n==0):\n",
    "        return 1\n",
    "    else:\n",
    "        return n*factorial(n-1)\n",
    "num = int(input(\"Enter number: \"))\n",
    "if(num<0):\n",
    "        print(\"Invalid Input\")\n",
    "else:\n",
    "    print(factorial(num))"
   ]
  },
  {
   "cell_type": "code",
   "execution_count": 6,
   "id": "d6fab106",
   "metadata": {},
   "outputs": [
    {
     "name": "stdout",
     "output_type": "stream",
     "text": [
      "Enter number: -1\n",
      "Invalid Input\n"
     ]
    }
   ],
   "source": [
    "def factorial(n):\n",
    "    if(n==0 or n==1):\n",
    "        return 1\n",
    "    else:\n",
    "        fact =1\n",
    "        while(n>1):\n",
    "            fact*=n\n",
    "            n-=1\n",
    "        return fact\n",
    "num=int(input(\"Enter number: \"))\n",
    "if(num<0):\n",
    "        print(\"Invalid Input\")\n",
    "else:\n",
    "    print(\"Factorial of \",num,\"is\",factorial(num))"
   ]
  },
  {
   "cell_type": "code",
   "execution_count": 3,
   "id": "2eca74cd",
   "metadata": {},
   "outputs": [
    {
     "name": "stdin",
     "output_type": "stream",
     "text": [
      "Enter number:  6\n"
     ]
    },
    {
     "name": "stdout",
     "output_type": "stream",
     "text": [
      "Factorial  720\n"
     ]
    }
   ],
   "source": [
    "import math\n",
    "num = int(input(\"Enter number: \"))\n",
    "print(\"Factorial \",math.factorial(num))"
   ]
  },
  {
   "cell_type": "code",
   "execution_count": 8,
   "id": "5f663e76",
   "metadata": {},
   "outputs": [
    {
     "name": "stdout",
     "output_type": "stream",
     "text": [
      "Enter number1: 10\n",
      "Enter number2: 5\n",
      "Menu\n",
      "1.addition\n",
      "2.Subtration\n",
      "3.Multiplication\n",
      "4.Division\n",
      "5.Exit\n",
      "Enter Choice: 1\n",
      "15\n",
      "Menu\n",
      "1.addition\n",
      "2.Subtration\n",
      "3.Multiplication\n",
      "4.Division\n",
      "5.Exit\n",
      "Enter Choice: 2\n",
      "5\n",
      "Menu\n",
      "1.addition\n",
      "2.Subtration\n",
      "3.Multiplication\n",
      "4.Division\n",
      "5.Exit\n",
      "Enter Choice: 3\n",
      "50\n",
      "Menu\n",
      "1.addition\n",
      "2.Subtration\n",
      "3.Multiplication\n",
      "4.Division\n",
      "5.Exit\n",
      "Enter Choice: 4\n",
      "2.0\n",
      "Menu\n",
      "1.addition\n",
      "2.Subtration\n",
      "3.Multiplication\n",
      "4.Division\n",
      "5.Exit\n",
      "Enter Choice: 5\n"
     ]
    }
   ],
   "source": [
    "def addition(a,b):\n",
    "    return (a+b)\n",
    "def subtraction(a,b):\n",
    "    return (a-b)\n",
    "def multiplication(a,b):\n",
    "    return (a*b)\n",
    "def division(a,b):\n",
    "    return (a/b)\n",
    "choice=0\n",
    "a=int(input(\"Enter number1: \"))\n",
    "b=int(input(\"Enter number2: \"))\n",
    "while(choice!=5):\n",
    "    print(\"Menu\")\n",
    "    print(\"1.addition\")\n",
    "    print(\"2.Subtration\")\n",
    "    print(\"3.Multiplication\")\n",
    "    print(\"4.Division\")\n",
    "    print(\"5.Exit\")\n",
    "    choice=int(input(\"Enter Choice: \"))\n",
    "    if choice==1: print(addition(a,b))\n",
    "    elif choice==2: print(subtraction(a,b))\n",
    "    elif choice==3: print(multiplication(a,b))\n",
    "    elif choice==4: print(division(a,b))\n",
    "    else: exit()"
   ]
  },
  {
   "cell_type": "code",
   "execution_count": 1,
   "id": "d340d92c",
   "metadata": {},
   "outputs": [
    {
     "name": "stdout",
     "output_type": "stream",
     "text": [
      "Enter the number of terms : 6\n",
      "Fibonacci : \n",
      "0\n",
      "1\n",
      "1\n",
      "2\n",
      "3\n",
      "5\n"
     ]
    }
   ],
   "source": [
    "def fibonacii(n):\n",
    "    if n<=1:\n",
    "        return n\n",
    "    else:\n",
    "        return(fibonacii(n-1) + fibonacii(n-2))\n",
    "\n",
    "n=int(input(\"Enter the number of terms : \"))\n",
    "if n<= 0:\n",
    "    print(\"Invalid Input\")\n",
    "else:\n",
    "    print(\"Fibonacci : \")\n",
    "    for i in range(n):\n",
    "        print(fibonacii(i))"
   ]
  },
  {
   "cell_type": "code",
   "execution_count": 2,
   "id": "d4d67da9",
   "metadata": {},
   "outputs": [
    {
     "name": "stdin",
     "output_type": "stream",
     "text": [
      "Enter Rows:  6\n"
     ]
    },
    {
     "name": "stdout",
     "output_type": "stream",
     "text": [
      "     * \n",
      "    * * \n",
      "   * * * \n",
      "  * * * * \n",
      " * * * * * \n",
      "* * * * * * \n"
     ]
    }
   ],
   "source": [
    "def triangle(n):\n",
    "    k=n-1\n",
    "    for i in range(0,n):\n",
    "        for j in range(0,k):\n",
    "            print(end=\" \")\n",
    "        k = k-1\n",
    "        for j in range (0,i+1):\n",
    "            print(\"* \", end=\"\")\n",
    "        print(\"\\r\")\n",
    "n=int(input(\"Enter Rows: \"))\n",
    "triangle(n)"
   ]
  },
  {
   "cell_type": "code",
   "execution_count": 3,
   "id": "8c2013ac",
   "metadata": {},
   "outputs": [
    {
     "name": "stdout",
     "output_type": "stream",
     "text": [
      "Enter Rows: 7\n",
      "       1 \n",
      "      2 2 \n",
      "     3 3 3 \n",
      "    4 4 4 4 \n",
      "   5 5 5 5 5 \n",
      "  6 6 6 6 6 6 \n",
      " 7 7 7 7 7 7 7 \n"
     ]
    }
   ],
   "source": [
    "def t(n):\n",
    "    k=n\n",
    "    for i in range(1,n+1):\n",
    "        for j in range(0,k):\n",
    "            print(end=\" \")\n",
    "        k = k-1\n",
    "        for j in range (0,i):\n",
    "            print(i, end=\" \")\n",
    "        print(\"\\r\")\n",
    "n=int(input(\"Enter Rows: \"))\n",
    "t(n)"
   ]
  }
 ],
 "metadata": {
  "interpreter": {
   "hash": "4939cee7d422d5d39ee16b2098a2003c48e3d32b241388eaf77ab70ce4a2e0c8"
  },
  "kernelspec": {
   "display_name": "Python 3 (ipykernel)",
   "language": "python",
   "name": "python3"
  },
  "language_info": {
   "codemirror_mode": {
    "name": "ipython",
    "version": 3
   },
   "file_extension": ".py",
   "mimetype": "text/x-python",
   "name": "python",
   "nbconvert_exporter": "python",
   "pygments_lexer": "ipython3",
   "version": "3.9.7"
  }
 },
 "nbformat": 4,
 "nbformat_minor": 5
}
