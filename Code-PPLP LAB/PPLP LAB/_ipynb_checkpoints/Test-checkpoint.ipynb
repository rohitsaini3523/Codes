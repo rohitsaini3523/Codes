{
 "cells": [
  {
   "cell_type": "code",
   "execution_count": 3,
   "id": "d3972a9a",
   "metadata": {},
   "outputs": [
    {
     "name": "stdout",
     "output_type": "stream",
     "text": [
      "[('aa', 30), ('aaaa', 28), ('bab', 29), ('bb', 21), ('csa', 'C')]\n"
     ]
    }
   ],
   "source": [
    "#Using bubble sort method\n",
    "Input = [(\"aaaa\", 28), (\"aa\", 30), (\"bab\", 29), (\"bb\", 21), (\"csa\", \"C\")]\n",
    "#Output: [('aa', 30), ('aaaa', 28), ('bab', 29), ('bb', 21), ('csa', 'C')]\n",
    "n = len(Input)\n",
    "for i in range(n):\n",
    "    for j in range(n-i-1):\n",
    "        if Input[j][0] > Input[j + 1][0]:\n",
    "            Input[j], Input[j + 1] = Input[j + 1], Input[j] #Swapping value \n",
    "print(Input)"
   ]
  },
  {
   "cell_type": "code",
   "execution_count": 6,
   "id": "13afa3a7",
   "metadata": {},
   "outputs": [
    {
     "name": "stdout",
     "output_type": "stream",
     "text": [
      "2\n"
     ]
    }
   ],
   "source": []
  },
  {
   "cell_type": "code",
   "execution_count": null,
   "id": "b2740869",
   "metadata": {},
   "outputs": [],
   "source": []
  }
 ],
 "metadata": {
  "kernelspec": {
   "display_name": "Python 3 (ipykernel)",
   "language": "python",
   "name": "python3"
  },
  "language_info": {
   "codemirror_mode": {
    "name": "ipython",
    "version": 3
   },
   "file_extension": ".py",
   "mimetype": "text/x-python",
   "name": "python",
   "nbconvert_exporter": "python",
   "pygments_lexer": "ipython3",
   "version": "3.9.6"
  }
 },
 "nbformat": 4,
 "nbformat_minor": 5
}
