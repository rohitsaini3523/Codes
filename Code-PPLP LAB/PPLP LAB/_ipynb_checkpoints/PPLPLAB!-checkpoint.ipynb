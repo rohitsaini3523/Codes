{
 "cells": [
  {
   "cell_type": "code",
   "execution_count": 1,
   "metadata": {},
   "outputs": [
    {
     "name": "stdout",
     "output_type": "stream",
     "text": [
      "A: 5\n",
      "B: 5\n",
      "C: 5\n",
      "125\n"
     ]
    }
   ],
   "source": [
    "#Q1. Print Multiplication of three number\n",
    "a,b,c=int(input(\"A: \")),int(input(\"B: \")),int(input(\"C: \"))\n",
    "print(a*b*c)"
   ]
  },
  {
   "cell_type": "code",
   "execution_count": null,
   "metadata": {},
   "outputs": [],
   "source": [
    "#Q2. Accept marks of three subject and print average\n",
    "Subject1 = float(input(\"Subject1: \"))\n",
    "Subject2 = float(input(\"Subject2: \"))\n",
    "Subject3 = float(input(\"Subject3: \"))\n",
    "print(\"Average Marks: \",(Subject1+Subject2+Subject3)/3)"
   ]
  },
  {
   "cell_type": "code",
   "execution_count": 1,
   "metadata": {},
   "outputs": [
    {
     "name": "stdout",
     "output_type": "stream",
     "text": [
      "HelloWorld!!!\n"
     ]
    }
   ],
   "source": [
    "#This is single line comment\n",
    "print(\"HelloWorld!!!\")"
   ]
  },
  {
   "cell_type": "code",
   "execution_count": 2,
   "metadata": {},
   "outputs": [
    {
     "name": "stdout",
     "output_type": "stream",
     "text": [
      "<class 'float'>\n",
      "<class 'str'>\n",
      "<class 'int'>\n"
     ]
    }
   ],
   "source": [
    "#type()function\n",
    "x=3.14\n",
    "y=\"Hii\"\n",
    "z=100\n",
    "print(type(x))\n",
    "print(type(y))\n",
    "print(type(z))"
   ]
  },
  {
   "cell_type": "code",
   "execution_count": 3,
   "metadata": {},
   "outputs": [
    {
     "name": "stdout",
     "output_type": "stream",
     "text": [
      "3\n",
      "True\n"
     ]
    }
   ],
   "source": [
    "#type conversion\n",
    "print(int(3.9999))\n",
    "print(bool(1))"
   ]
  },
  {
   "cell_type": "code",
   "execution_count": 4,
   "metadata": {},
   "outputs": [
    {
     "name": "stdout",
     "output_type": "stream",
     "text": [
      "You Have  25  till your Retierment\n"
     ]
    }
   ],
   "source": [
    "#using variable in print statement\n",
    "age = 40\n",
    "print(\"You Have \",65 - age,\" till your Retierment\")"
   ]
  },
  {
   "cell_type": "code",
   "execution_count": 5,
   "metadata": {},
   "outputs": [
    {
     "name": "stdout",
     "output_type": "stream",
     "text": [
      "You Have  20  till your Retierment\n"
     ]
    }
   ],
   "source": [
    "#same program as above but accepting input form user\n",
    "age = int(input(\"Enter your age: \"))\n",
    "print(\"You Have \",65 - age,\" till your Retierment\")"
   ]
  },
  {
   "cell_type": "code",
   "execution_count": 6,
   "metadata": {},
   "outputs": [
    {
     "name": "stdout",
     "output_type": "stream",
     "text": [
      "2\n",
      "5\n"
     ]
    }
   ],
   "source": [
    "#modulus gives remainder\n",
    "int_a = 7\n",
    "int_b = 5\n",
    "print(int_a % int_b)\n",
    "print(int_b % int_a)"
   ]
  },
  {
   "cell_type": "code",
   "execution_count": 7,
   "metadata": {},
   "outputs": [
    {
     "name": "stdout",
     "output_type": "stream",
     "text": [
      "16\n",
      "12\n"
     ]
    }
   ],
   "source": [
    "#Left shift and right shift\n",
    "a = 2\n",
    "b = 3\n",
    "print(a<<b)\n",
    "print(b<<a)"
   ]
  },
  {
   "cell_type": "code",
   "execution_count": 8,
   "metadata": {},
   "outputs": [
    {
     "name": "stdout",
     "output_type": "stream",
     "text": [
      "130\n",
      "125\n",
      "625\n",
      "125.0\n",
      "0.0\n",
      "2\n",
      "32\n",
      "0\n",
      "5\n",
      "0\n",
      "0\n",
      "0\n"
     ]
    }
   ],
   "source": [
    "#Operators\n",
    "x = int(input(\"X: \"))\n",
    "x+=5\n",
    "print(x)\n",
    "x-=5\n",
    "print(x)\n",
    "x*=5\n",
    "print(x)\n",
    "x/=5\n",
    "print(x)\n",
    "x%=5\n",
    "print(x)\n",
    "x=10\n",
    "x//=5\n",
    "print(x)\n",
    "x**=5\n",
    "print(x)\n",
    "x&=5\n",
    "print(x)\n",
    "x|=5\n",
    "print(x)\n",
    "x^=5\n",
    "print(x)\n",
    "x>>=5\n",
    "print(x)\n",
    "x<<=5\n",
    "print(x)"
   ]
  },
  {
   "cell_type": "code",
   "execution_count": null,
   "metadata": {},
   "outputs": [],
   "source": [
    "#if Statement with logical operator \n",
    "x = int(input())\n",
    "if(x>5 and x<10):\n",
    "    print(x, \" more than 5 less than 10\")"
   ]
  },
  {
   "cell_type": "code",
   "execution_count": 9,
   "metadata": {},
   "outputs": [
    {
     "name": "stdout",
     "output_type": "stream",
     "text": [
      "94.33\n",
      "26.33\n",
      "95\n",
      "27\n",
      "94\n",
      "26\n",
      "94.33\n",
      "94\n",
      "26\n"
     ]
    }
   ],
   "source": [
    "#Math library functions\n",
    "from math import *\n",
    "x = 94.33\n",
    "y = 26.33\n",
    "print(abs(x))\n",
    "print(abs(y))\n",
    "print(ceil(x))\n",
    "print(ceil(y))\n",
    "print(floor(x))\n",
    "print(floor(y))\n",
    "print(max(x,y))\n",
    "print(round(x))\n",
    "print(round(y))"
   ]
  },
  {
   "cell_type": "code",
   "execution_count": 10,
   "metadata": {},
   "outputs": [
    {
     "name": "stdout",
     "output_type": "stream",
     "text": [
      "Your Average is :  98.0\n",
      "Distinction\n"
     ]
    }
   ],
   "source": [
    "#Accept marks of 3 Subject and Print average with result\n",
    "Subject1 = float(input(\"Subject1: \"))\n",
    "Subject2 = float(input(\"Subject2: \"))\n",
    "Subject3 = float(input(\"Subject3: \"))\n",
    "avg = (Subject1+Subject2+Subject3)/3\n",
    "print(\"Your Average is : \",avg)\n",
    "if avg>=75:\n",
    "    print(\"Distinction\")\n",
    "elif avg>=65 and avg<75:\n",
    "    print(\"First Class\")\n",
    "elif avg>=55 and avg<65:\n",
    "    print(\"Second Class\")\n",
    "elif avg>=45 and avg<55:\n",
    "    print(\"Third Class\")\n",
    "else:\n",
    "    print(\"Fail\") "
   ]
  },
  {
   "cell_type": "code",
   "execution_count": 11,
   "metadata": {},
   "outputs": [
    {
     "name": "stdout",
     "output_type": "stream",
     "text": [
      "5040\n"
     ]
    }
   ],
   "source": [
    "#Factorial of number\n",
    "x=int(input())\n",
    "fact=1\n",
    "if x<0:\n",
    "    print(\"Invalid\")\n",
    "    exit()\n",
    "for i in range(1,x+1):\n",
    "    fact*=i\n",
    "print(fact)"
   ]
  },
  {
   "cell_type": "code",
   "execution_count": 12,
   "metadata": {},
   "outputs": [
    {
     "name": "stdout",
     "output_type": "stream",
     "text": [
      "50\n"
     ]
    }
   ],
   "source": [
    "# Sum of first 10 number except 5 \n",
    "a = int(10)\n",
    "sum=0\n",
    "while a>0:\n",
    "    if a==5:\n",
    "        a=a-1\n",
    "    sum+=a\n",
    "    a=a-1\n",
    "print(sum)"
   ]
  }
 ],
 "metadata": {
  "interpreter": {
   "hash": "4939cee7d422d5d39ee16b2098a2003c48e3d32b241388eaf77ab70ce4a2e0c8"
  },
  "kernelspec": {
   "display_name": "Python 3 (ipykernel)",
   "language": "python",
   "name": "python3"
  },
  "language_info": {
   "codemirror_mode": {
    "name": "ipython",
    "version": 3
   },
   "file_extension": ".py",
   "mimetype": "text/x-python",
   "name": "python",
   "nbconvert_exporter": "python",
   "pygments_lexer": "ipython3",
   "version": "3.9.6"
  }
 },
 "nbformat": 4,
 "nbformat_minor": 2
}
