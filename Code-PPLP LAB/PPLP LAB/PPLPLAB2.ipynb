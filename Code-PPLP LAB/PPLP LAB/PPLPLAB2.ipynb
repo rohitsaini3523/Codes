{
 "cells": [
  {
   "cell_type": "code",
   "execution_count": 1,
   "id": "b11d572d",
   "metadata": {},
   "outputs": [
    {
     "name": "stdout",
     "output_type": "stream",
     "text": [
      "o\n",
      "24\n",
      "SYBt\n"
     ]
    }
   ],
   "source": [
    "S=\"Hello SYBtech Students!!\"\n",
    "#Index\n",
    "print (S[4])\n",
    "#Length of String\n",
    "print(len(S))\n",
    "#Slicing\n",
    "print(S[6:10])"
   ]
  },
  {
   "cell_type": "code",
   "execution_count": 2,
   "id": "405eb06b",
   "metadata": {},
   "outputs": [
    {
     "name": "stdout",
     "output_type": "stream",
     "text": [
      "ABCXYZ\n"
     ]
    }
   ],
   "source": [
    "#Concatination\n",
    "print(\"ABC\"+\"XYZ\")"
   ]
  },
  {
   "cell_type": "code",
   "execution_count": 3,
   "id": "d7585f29",
   "metadata": {},
   "outputs": [
    {
     "name": "stdout",
     "output_type": "stream",
     "text": [
      "ABSBtech Student\n"
     ]
    }
   ],
   "source": [
    "s = \"Btech Student\"\n",
    "print(\"ABS\"+s)"
   ]
  },
  {
   "cell_type": "code",
   "execution_count": 4,
   "id": "614193d3",
   "metadata": {},
   "outputs": [
    {
     "name": "stdout",
     "output_type": "stream",
     "text": [
      "ABC\n",
      "ABC\n",
      "ABC\n",
      "ABC\n",
      "\n"
     ]
    }
   ],
   "source": [
    "#Repetation\n",
    "print(\"ABC\\n\"*4)"
   ]
  },
  {
   "cell_type": "code",
   "execution_count": 5,
   "id": "95993f9f",
   "metadata": {},
   "outputs": [
    {
     "name": "stdout",
     "output_type": "stream",
     "text": [
      "abdc\n",
      "ADSFNGM\n"
     ]
    }
   ],
   "source": [
    "#upper and lower case\n",
    "s=\"ABdC\"\n",
    "s1=\"adsfngm\"\n",
    "print(s.lower())\n",
    "print(s1.upper())"
   ]
  },
  {
   "cell_type": "code",
   "execution_count": 6,
   "id": "348f5606",
   "metadata": {},
   "outputs": [
    {
     "name": "stdout",
     "output_type": "stream",
     "text": [
      "str.capitalize():  This is string examplehelloyou\n"
     ]
    }
   ],
   "source": [
    "#captitalize: make capital first charcter and to lower everything\n",
    "str =\"this is string example\"+\"Hello\"+\"YOU\"\n",
    "print(\"str.capitalize(): \",str.capitalize())"
   ]
  },
  {
   "cell_type": "code",
   "execution_count": 7,
   "id": "092b2f5c",
   "metadata": {},
   "outputs": [
    {
     "name": "stdout",
     "output_type": "stream",
     "text": [
      "2\n",
      "1\n",
      "0\n"
     ]
    }
   ],
   "source": [
    "#count function\n",
    "str=\"Hello Students!\"\n",
    "sub='e'\n",
    "print(str.count(sub))\n",
    "print(str.count(sub,3,20))\n",
    "print(str.count(\"l\",4,20))"
   ]
  },
  {
   "cell_type": "code",
   "execution_count": 8,
   "id": "fa8ea35e",
   "metadata": {},
   "outputs": [
    {
     "name": "stdout",
     "output_type": "stream",
     "text": [
      "11\n",
      "-1\n",
      "15\n"
     ]
    }
   ],
   "source": [
    "#find: return the index if found else -1\n",
    "s=\"This is an example of find\"\n",
    "s1=\"exam\"\n",
    "print(s.find(s1))\n",
    "print(s.find(\"axn\"))\n",
    "print(s.find(\"ple\",10,30))"
   ]
  },
  {
   "cell_type": "code",
   "execution_count": 9,
   "id": "5ed94418",
   "metadata": {},
   "outputs": [
    {
     "name": "stdout",
     "output_type": "stream",
     "text": [
      "thwas was string example...wow!!! thwas was \n",
      "this is string example...wow!!! this is \n"
     ]
    }
   ],
   "source": [
    "#replace function: (\"which string\",\"with which\",how many times)\n",
    "str=\"this is string example...wow!!! this is \"\n",
    "print(str.replace(\"is\",\"was\"))\n",
    "print(str.replace(\"is\",\"was\",0))"
   ]
  },
  {
   "cell_type": "code",
   "execution_count": 10,
   "id": "9f3e693b",
   "metadata": {},
   "outputs": [
    {
     "name": "stdout",
     "output_type": "stream",
     "text": [
      "his is string example...wow!!! this iswt1\n"
     ]
    }
   ],
   "source": [
    "#strip:check for first and last index then remove if found \n",
    "str=\"wthis is string example...wow!!! this iswt1\"\n",
    "print(str.strip('wt'))"
   ]
  },
  {
   "cell_type": "code",
   "execution_count": 11,
   "id": "c7abb8c7",
   "metadata": {},
   "outputs": [
    {
     "name": "stdout",
     "output_type": "stream",
     "text": [
      "['this', 'is', 'string', 'example...wow!!!', 'this', 'is']\n",
      "['this is', '', 'str', '', 'ing examp', '', 'le...wow!!! this is ']\n",
      "['thi', ' i', ' string example...wow!!! this is ']\n"
     ]
    }
   ],
   "source": [
    "#split: string.split()-spaces\n",
    "#string.split('*')- remove * and split\n",
    "#string.split('*',2)-remove 8 and split only two times reset become one string\n",
    "str=\"this is string example...wow!!! this is \"\n",
    "print(str.split())\n",
    "str=\"this is**str**ing examp**le...wow!!! this is \"\n",
    "print(str.split('*'))\n",
    "str=\"this is string example...wow!!! this is \"\n",
    "print(str.split('s',2))"
   ]
  },
  {
   "cell_type": "code",
   "execution_count": 12,
   "id": "5aee6085",
   "metadata": {},
   "outputs": [
    {
     "name": "stdout",
     "output_type": "stream",
     "text": [
      "a-b-c\n"
     ]
    }
   ],
   "source": [
    "#join\n",
    "s=\"-\"\n",
    "seq=(\"a\",\"b\",\"c\")\n",
    "print(s.join(seq))"
   ]
  },
  {
   "cell_type": "code",
   "execution_count": 13,
   "id": "027d5b9b",
   "metadata": {},
   "outputs": [
    {
     "name": "stdout",
     "output_type": "stream",
     "text": [
      "True\n",
      "True\n"
     ]
    }
   ],
   "source": [
    "#str.startswith(\"charcter\",start index,ending)\n",
    "str=\"this is string example...wow!!! this is \"\n",
    "print(str.startswith(\"this\"))\n",
    "print(str.startswith(\"is\",5))"
   ]
  },
  {
   "cell_type": "code",
   "execution_count": 14,
   "id": "bd9bd729",
   "metadata": {},
   "outputs": [
    {
     "name": "stdout",
     "output_type": "stream",
     "text": [
      "True\n",
      "True\n",
      "False\n"
     ]
    }
   ],
   "source": [
    "#endswith: \n",
    "suffix=\"!!\"\n",
    "str=\"this is string example...wow!!!\"\n",
    "print(str.endswith(suffix))\n",
    "print(str.endswith(suffix,20))\n",
    "print(str.endswith(suffix,40))"
   ]
  },
  {
   "cell_type": "code",
   "execution_count": 15,
   "id": "3518639e",
   "metadata": {},
   "outputs": [
    {
     "name": "stdout",
     "output_type": "stream",
     "text": [
      "15\n",
      "23\n"
     ]
    }
   ],
   "source": [
    "#index(): if found return index else give error substring not found\n",
    "str=\"this is string example.exam..wow!!! this is \"\n",
    "s=\"exam\"\n",
    "print(str.index(s))\n",
    "print(str.index(s,16))"
   ]
  },
  {
   "cell_type": "code",
   "execution_count": 16,
   "id": "7c6fb815",
   "metadata": {},
   "outputs": [
    {
     "name": "stdout",
     "output_type": "stream",
     "text": [
      "False\n"
     ]
    }
   ],
   "source": [
    "#isaplha(): check for every charcter to be alphabets and return True\n",
    "str=\"this is string example...wow!!! this is \"\n",
    "print(str.isalpha())"
   ]
  },
  {
   "cell_type": "code",
   "execution_count": 1,
   "id": "bb244bad",
   "metadata": {
    "scrolled": true
   },
   "outputs": [
    {
     "name": "stdout",
     "output_type": "stream",
     "text": [
      "11\n",
      "Rohit SainiRohit SainiRohit SainiRohit SainiRohit SainiRohit SainiRohit SainiRohit SainiRohit SainiRohit Saini\n",
      "R\n",
      "Roh\n",
      "ini\n",
      "iniaS tihoR\n",
      "S\n",
      "ohit Sain\n",
      "ROHIT SAINI\n",
      "Rohit Seini\n",
      " \n",
      "True\n"
     ]
    }
   ],
   "source": [
    "#Q1\n",
    "string=input(\"Enter String: \")\n",
    "print(len(string))\n",
    "print(string*10)\n",
    "print(string[0])\n",
    "print(string[0:3])\n",
    "print(string[len(string)-3:len(string)])\n",
    "n = len(string)\n",
    "print(string[::-1])\n",
    "if len(string)>7:\n",
    "    print(string[6])\n",
    "else:\n",
    "    print(\"Not Found\")\n",
    "print(string[1:-1])\n",
    "print(string.upper())\n",
    "print(string.replace(\"a\",\"e\"))\n",
    "string = string.replace(string,\" \")\n",
    "print(string)\n",
    "print(string.isspace())"
   ]
  },
  {
   "cell_type": "code",
   "execution_count": 1,
   "id": "65179d4c",
   "metadata": {},
   "outputs": [
    {
     "name": "stdout",
     "output_type": "stream",
     "text": [
      "Enter Name: hello students welcome to SY BTECh\n",
      "Hello Students Welcome To Sy Btech \n"
     ]
    }
   ],
   "source": [
    "#Q2. \n",
    "string = input(\"Enter Name: \")\n",
    "tolist = string.split(\" \")\n",
    "string= \"\"\n",
    "for i in tolist:\n",
    "    i=i.capitalize()\n",
    "    string += i + \" \"\n",
    "del tolist\n",
    "print(string)"
   ]
  },
  {
   "cell_type": "code",
   "execution_count": 3,
   "id": "fd31f238",
   "metadata": {},
   "outputs": [
    {
     "name": "stdout",
     "output_type": "stream",
     "text": [
      "Enter String: hello name is rohit\n",
      "Number of words :  4\n"
     ]
    }
   ],
   "source": [
    "#Q3.\n",
    "string = input(\"Enter String: \")\n",
    "k=len(string.split())\n",
    "print(\"Number of words : \", k)"
   ]
  },
  {
   "cell_type": "code",
   "execution_count": 2,
   "id": "48c569ea",
   "metadata": {},
   "outputs": [
    {
     "name": "stdout",
     "output_type": "stream",
     "text": [
      "Enter word: HELLO name\n",
      "Total vowels in  HELLO name is:  4\n"
     ]
    }
   ],
   "source": [
    "#Q4 a\n",
    "vowel=0\n",
    "word = input(\"Enter word: \")\n",
    "if (word.isalnum()):\n",
    "    print(\"Wrong input! Enter a word\")\n",
    "    exit()\n",
    "else:\n",
    "    for i in word:\n",
    "        if(i == 'a' or i == 'e' or i == 'i' or i == 'o' or i == 'u' or i == 'A'or i == 'E' or i == 'I' or i == 'O' or i == 'U'):\n",
    "            vowel+=1\n",
    "print(\"Total vowels in \",word,\"is: \",vowel)"
   ]
  },
  {
   "cell_type": "code",
   "execution_count": 16,
   "id": "36a66b49",
   "metadata": {},
   "outputs": [
    {
     "name": "stdout",
     "output_type": "stream",
     "text": [
      "Enter Word: name\n",
      "Not palinrome\n"
     ]
    }
   ],
   "source": [
    "#Q4 b\n",
    "word = input(\"Enter Word: \")\n",
    "if(word==word[::-1]):\n",
    "    print(\"Palindrome\")\n",
    "else: \n",
    "    print(\"Not palinrome\")"
   ]
  },
  {
   "cell_type": "code",
   "execution_count": 15,
   "id": "d48c84e7",
   "metadata": {
    "scrolled": true
   },
   "outputs": [
    {
     "name": "stdout",
     "output_type": "stream",
     "text": [
      "Number of Entries: 5\n",
      "r\n",
      "w@student.mitwpu.edu.in\n",
      "p@prof.mitwpu.edu\n",
      "s@student.mitwpu.edu\n",
      "p@prof.mitwpu.edu\n",
      "Professor Id's Also Present\n",
      "Student Id's :  1\n",
      "Professor Id's :  2\n",
      "Wrong entries :  2\n"
     ]
    }
   ],
   "source": [
    "#Q5\n",
    "n = int(input(\"Number of Entries: \"))\n",
    "a = \"\"\n",
    "i,j,k,l,check1,check2=0,0,0,0,0,0\n",
    "while(i<n):\n",
    "    a=input()\n",
    "    if a.endswith(\"@student.mitwpu.edu\"):\n",
    "        check1+=1\n",
    "        j+=1  #to count  no. of student id for verification purpose\n",
    "    elif a.endswith(\"@prof.mitwpu.edu\"):\n",
    "        check2+=1\n",
    "        k+=1  #to count  no. of professor id for verification purpose\n",
    "    else:\n",
    "        l+=1  #to count  no. of wrong id for verification purpose\n",
    "    i+=1        \n",
    "if(check2==0):\n",
    "    print(\"All Student Id's\")\n",
    "elif(check1==0 and check2==0):\n",
    "    print(\"All Wrong Entries\")  #Just to check if code is working or not\n",
    "else:\n",
    "    print(\"Professor Id's Also Present\")\n",
    "print(\"Student Id's : \",j)\n",
    "print(\"Professor Id's : \",k)\n",
    "print(\"Wrong entries : \",l)"
   ]
  }
 ],
 "metadata": {
  "interpreter": {
   "hash": "4939cee7d422d5d39ee16b2098a2003c48e3d32b241388eaf77ab70ce4a2e0c8"
  },
  "kernelspec": {
   "display_name": "Python 3 (ipykernel)",
   "language": "python",
   "name": "python3"
  },
  "language_info": {
   "codemirror_mode": {
    "name": "ipython",
    "version": 3
   },
   "file_extension": ".py",
   "mimetype": "text/x-python",
   "name": "python",
   "nbconvert_exporter": "python",
   "pygments_lexer": "ipython3",
   "version": "3.9.7"
  }
 },
 "nbformat": 4,
 "nbformat_minor": 5
}
