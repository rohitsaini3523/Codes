{
 "cells": [
  {
   "cell_type": "code",
   "execution_count": 1,
   "source": [
    "#Using bubble sort method\r\n",
    "Input = [(\"aaaa\", 28), (\"csa\", \"C\"),(\"bab\", 29), (\"aa\", 30),(\"bb\", 21)]\r\n",
    "#Output: [('aa', 30), ('aaaa', 28), ('bab', 29), ('bb', 21), ('csa', 'C')]\r\n",
    "n = len(Input)\r\n",
    "for i in range(n):\r\n",
    "    for j in range(n-i-1):\r\n",
    "        if Input[j][0] > Input[j + 1][0]:\r\n",
    "            Input[j], Input[j + 1] = Input[j + 1], Input[j] #Swapping value \r\n",
    "print(Input)\r\n",
    "n =int(input(\"a: \"))\r\n",
    "print(n)"
   ],
   "outputs": [
    {
     "output_type": "stream",
     "name": "stdout",
     "text": [
      "[('aa', 30), ('aaaa', 28), ('bab', 29), ('bb', 21), ('csa', 'C')]\n",
      "5\n"
     ]
    }
   ],
   "metadata": {}
  }
 ],
 "metadata": {
  "interpreter": {
   "hash": "4939cee7d422d5d39ee16b2098a2003c48e3d32b241388eaf77ab70ce4a2e0c8"
  },
  "kernelspec": {
   "name": "python3",
   "display_name": "Python 3.9.7 64-bit"
  },
  "language_info": {
   "codemirror_mode": {
    "name": "ipython",
    "version": 3
   },
   "file_extension": ".py",
   "mimetype": "text/x-python",
   "name": "python",
   "nbconvert_exporter": "python",
   "pygments_lexer": "ipython3",
   "version": "3.9.7"
  }
 },
 "nbformat": 4,
 "nbformat_minor": 5
}